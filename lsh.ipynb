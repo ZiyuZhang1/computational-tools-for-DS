{
 "cells": [
  {
   "cell_type": "code",
   "execution_count": 53,
   "id": "e0b259d0",
   "metadata": {},
   "outputs": [],
   "source": [
    "import numpy as np\n",
    "import mmh3\n",
    "import os\n",
    "import pandas as pd\n",
    "import matplotlib.pyplot as plt"
   ]
  },
  {
   "cell_type": "markdown",
   "id": "2e8512e4",
   "metadata": {},
   "source": [
    "## Functions for minhash"
   ]
  },
  {
   "cell_type": "code",
   "execution_count": 59,
   "id": "45699b0a",
   "metadata": {},
   "outputs": [],
   "source": [
    "def shingle(aString, q, delimiter=' '):\n",
    "    \"\"\"\n",
    "    Input:\n",
    "        - aString (str): string to split into shingles\n",
    "        - q (int)\n",
    "        - delimiter (str): string of the delimiter to consider to split the input string (default: space)\n",
    "    Return: list of unique shingles\n",
    "    \"\"\"\n",
    "    \n",
    "    all_shingles = []\n",
    "    if delimiter != '':\n",
    "        words_list = str(aString).split(delimiter)\n",
    "    else:\n",
    "        words_list = aString\n",
    "    if len(words_list) < q:\n",
    "        q = len(words_list)\n",
    "    for i in range (len(words_list)-q+1):\n",
    "        all_shingles.append(delimiter.join(words_list[i:i+q]))\n",
    "    return list(set(all_shingles))\n",
    "\n",
    "def listhash(l,seed):\n",
    "    val = 0\n",
    "    for e in l:\n",
    "        val = val ^ mmh3.hash(e, seed)\n",
    "    return val \n",
    "\n",
    "def minhash(shingles_list, seed):\n",
    "    \"\"\"\n",
    "    Input:\n",
    "        - shingles_list (list of str): set of hashes\n",
    "        - seed (int): seed for listhash function\n",
    "    Return: minhash of given shingles\n",
    "    \"\"\"\n",
    "    minhash_value = np.inf\n",
    "    for aShingle in shingles_list:\n",
    "        hashcode = listhash([aShingle], seed)\n",
    "        if minhash_value == None or hashcode < minhash_value:\n",
    "            minhash_value = hashcode\n",
    "    return minhash_value\n",
    "\n",
    "def minhash2(shingles_list, k):\n",
    "    \"\"\"\n",
    "    Input:\n",
    "        - shingles_list (list of str): set of hashes\n",
    "        - k (int): seed for listhash function\n",
    "    Return: sequence of k minhashes\n",
    "    \"\"\"\n",
    "    all_minhash = []\n",
    "    for i in range(k):\n",
    "        all_minhash.append(minhash(shingles_list, i))\n",
    "    return all_minhash\n",
    "\n",
    "def signature(df_reviews, q = 3, num_hashes = 100):\n",
    "    \"\"\"\n",
    "    Input:\n",
    "        - dict_docs (dict of str:str): dictionary of {title:document}\n",
    "        - q (int)\n",
    "        - num_hashes (int)\n",
    "    Return: dictionary consisting of document idâ€™s as keys and signatures as values\n",
    "    \"\"\"\n",
    "    dict_signatures = {}\n",
    "    total_texts = len(df_reviews.index)\n",
    "    counter = 1\n",
    "    for ix, text in enumerate(df_reviews['Clean_Review']):\n",
    "        #print(f'{counter}/{total_texts} - {ix} - Processing...')\n",
    "        doc_shingles = shingle(text, q)\n",
    "        minhash_values = minhash2(doc_shingles, num_hashes)\n",
    "        dict_signatures[ix] = minhash_values\n",
    "        counter += 1\n",
    "    return dict_signatures\n",
    "\n",
    "def jaccard(name1, name2, signatures_dict):\n",
    "    \"\"\"\n",
    "    Input:\n",
    "        - name1 (str): key of the first document S\n",
    "        - name2 (str): key of the second document T\n",
    "        - signatures_dict (dict of str:list): dictionary of signatures\n",
    "    Return: Jaccard similarity between S and T\n",
    "    \"\"\"\n",
    "    signatures_doc1 = np.array(signatures_dict[name1])\n",
    "    signatures_doc2 = np.array(signatures_dict[name2])\n",
    "    return len(np.intersect1d(signatures_doc1, signatures_doc2))/len(np.union1d(signatures_doc1, signatures_doc2))\n",
    "\n",
    "def lsh(signatures_dict, jaccard_threshold=0.6, seed=42):\n",
    "    lsh_dict = {}\n",
    "    for key, values in signatures_dict.items():\n",
    "        blocks = np.split(np.array(values), b)\n",
    "        blocks_hash_values = []\n",
    "        for aBlock in blocks:\n",
    "            blocks_hash_values.append(mmh3.hash(aBlock, seed))\n",
    "        lsh_dict[key] = blocks_hash_values\n",
    "    list_keys = list(lsh_dict.keys())\n",
    "    similar_items = {}\n",
    "    for i in range (len(list_keys)-1):\n",
    "        print(i)\n",
    "        for j in range (i+1, len(list_keys)):\n",
    "            common_values = np.intersect1d(lsh_dict[list_keys[i]], lsh_dict[list_keys[j]])\n",
    "            if len(common_values) > 0:\n",
    "                # we found a candidate\n",
    "                similarity_score = jaccard(list_keys[i], list_keys[j], signatures_dict)\n",
    "                if similarity_score >= jaccard_threshold:\n",
    "                    similar_items[(list_keys[i], list_keys[j])] = similarity_score\n",
    "                    #print((list_keys[i], list_keys[j]))\n",
    "                    #print(similar_items[(list_keys[i], list_keys[j])])\n",
    "    return similar_items"
   ]
  },
  {
   "cell_type": "markdown",
   "id": "a5c6f128",
   "metadata": {},
   "source": [
    "## Import data"
   ]
  },
  {
   "cell_type": "code",
   "execution_count": 60,
   "id": "e213a4d1",
   "metadata": {},
   "outputs": [],
   "source": [
    "root = os.getcwd()\n",
    "df = pd.read_csv(root + \"\\clean_sample_data.csv\")"
   ]
  },
  {
   "cell_type": "code",
   "execution_count": 61,
   "id": "85e8d896",
   "metadata": {},
   "outputs": [
    {
     "data": {
      "text/html": [
       "<div>\n",
       "<style scoped>\n",
       "    .dataframe tbody tr th:only-of-type {\n",
       "        vertical-align: middle;\n",
       "    }\n",
       "\n",
       "    .dataframe tbody tr th {\n",
       "        vertical-align: top;\n",
       "    }\n",
       "\n",
       "    .dataframe thead th {\n",
       "        text-align: right;\n",
       "    }\n",
       "</style>\n",
       "<table border=\"1\" class=\"dataframe\">\n",
       "  <thead>\n",
       "    <tr style=\"text-align: right;\">\n",
       "      <th></th>\n",
       "      <th>overall</th>\n",
       "      <th>reviewText</th>\n",
       "      <th>Clean_Review</th>\n",
       "    </tr>\n",
       "  </thead>\n",
       "  <tbody>\n",
       "    <tr>\n",
       "      <th>0</th>\n",
       "      <td>1.0</td>\n",
       "      <td>I have been involved with computers for 22 yea...</td>\n",
       "      <td>involve computer year expert design program co...</td>\n",
       "    </tr>\n",
       "    <tr>\n",
       "      <th>1</th>\n",
       "      <td>1.0</td>\n",
       "      <td>Downloaded KIS7 because previous subscription ...</td>\n",
       "      <td>download previous subscription expire load say...</td>\n",
       "    </tr>\n",
       "    <tr>\n",
       "      <th>2</th>\n",
       "      <td>1.0</td>\n",
       "      <td>Norton Security has been working fine for the ...</td>\n",
       "      <td>norton security work fine last year start use ...</td>\n",
       "    </tr>\n",
       "    <tr>\n",
       "      <th>3</th>\n",
       "      <td>1.0</td>\n",
       "      <td>same ol' same ol' from Microsoft - but what ca...</td>\n",
       "      <td>ol ol microsoft expect company large dysfuncti...</td>\n",
       "    </tr>\n",
       "    <tr>\n",
       "      <th>4</th>\n",
       "      <td>1.0</td>\n",
       "      <td>I have been using Quicken since the 2nd DOS ve...</td>\n",
       "      <td>use quicken since do version cannot understand...</td>\n",
       "    </tr>\n",
       "  </tbody>\n",
       "</table>\n",
       "</div>"
      ],
      "text/plain": [
       "   overall                                         reviewText  \\\n",
       "0      1.0  I have been involved with computers for 22 yea...   \n",
       "1      1.0  Downloaded KIS7 because previous subscription ...   \n",
       "2      1.0  Norton Security has been working fine for the ...   \n",
       "3      1.0  same ol' same ol' from Microsoft - but what ca...   \n",
       "4      1.0  I have been using Quicken since the 2nd DOS ve...   \n",
       "\n",
       "                                        Clean_Review  \n",
       "0  involve computer year expert design program co...  \n",
       "1  download previous subscription expire load say...  \n",
       "2  norton security work fine last year start use ...  \n",
       "3  ol ol microsoft expect company large dysfuncti...  \n",
       "4  use quicken since do version cannot understand...  "
      ]
     },
     "execution_count": 61,
     "metadata": {},
     "output_type": "execute_result"
    }
   ],
   "source": [
    "df.head()"
   ]
  },
  {
   "cell_type": "markdown",
   "id": "36bba7e3",
   "metadata": {},
   "source": [
    "## Create minhash signatures for each review"
   ]
  },
  {
   "cell_type": "code",
   "execution_count": 62,
   "id": "4230d909",
   "metadata": {},
   "outputs": [],
   "source": [
    "k = 100\n",
    "b,r = 10, 10\n",
    "assert k == b*r\n",
    "\n",
    "sigs = signature(df, q = 1, num_hashes = k)\n",
    "\n",
    "# sim_items = lsh(sigs)\n"
   ]
  },
  {
   "cell_type": "markdown",
   "id": "0d89f787",
   "metadata": {},
   "source": [
    "## Clustering based on minhash signatures"
   ]
  },
  {
   "cell_type": "code",
   "execution_count": 63,
   "id": "e6fa459b",
   "metadata": {},
   "outputs": [],
   "source": [
    "def dic_to_vec(dic):\n",
    "    \"\"\"\n",
    "    Create matrix of signatures usable by sklearn.\n",
    "    \n",
    "    args:\n",
    "        dic: Dictionary of review signatures\n",
    "    returns:\n",
    "        numpy matrix of dimensions (# of reviews, # of minhashes)\n",
    "    \"\"\"\n",
    "    for ix, sig in enumerate(list(dic.items())):\n",
    "        if ix == 0:\n",
    "            X = np.array([sig[1]])\n",
    "        else:\n",
    "            X = np.append(X,[sig[1]],axis=0)\n",
    "    return X"
   ]
  },
  {
   "cell_type": "code",
   "execution_count": 64,
   "id": "5c31c344",
   "metadata": {},
   "outputs": [],
   "source": [
    "X = dic_to_vec(sigs)"
   ]
  },
  {
   "cell_type": "code",
   "execution_count": 65,
   "id": "7a698f6e",
   "metadata": {},
   "outputs": [],
   "source": [
    "y = np.array(df.overall.values)"
   ]
  },
  {
   "cell_type": "markdown",
   "id": "0e53ab59",
   "metadata": {},
   "source": [
    "## KMeans clustering"
   ]
  },
  {
   "cell_type": "code",
   "execution_count": 100,
   "id": "98b3b4df",
   "metadata": {},
   "outputs": [
    {
     "data": {
      "text/plain": [
       "'0.24.2'"
      ]
     },
     "execution_count": 100,
     "metadata": {},
     "output_type": "execute_result"
    }
   ],
   "source": [
    "from sklearn.cluster import KMeans\n",
    "#from sklearn.cluster import BisectingKMeans"
   ]
  },
  {
   "cell_type": "code",
   "execution_count": 68,
   "id": "62f51b71",
   "metadata": {},
   "outputs": [],
   "source": [
    "# Initialize classifier\n",
    "k_means = KMeans(n_clusters=5, random_state=0)"
   ]
  },
  {
   "cell_type": "code",
   "execution_count": 69,
   "id": "0788dbc5",
   "metadata": {},
   "outputs": [],
   "source": [
    "X_transform = k_means.fit_transform(X,y)"
   ]
  },
  {
   "cell_type": "code",
   "execution_count": 70,
   "id": "22f4a6c3",
   "metadata": {},
   "outputs": [
    {
     "data": {
      "text/plain": [
       "[<matplotlib.lines.Line2D at 0x2620d1fbca0>,\n",
       " <matplotlib.lines.Line2D at 0x2620d1fbc40>,\n",
       " <matplotlib.lines.Line2D at 0x2620d1f5970>,\n",
       " <matplotlib.lines.Line2D at 0x2620d1f5e80>,\n",
       " <matplotlib.lines.Line2D at 0x2620d1f5d60>]"
      ]
     },
     "execution_count": 70,
     "metadata": {},
     "output_type": "execute_result"
    },
    {
     "data": {
      "image/png": "[encoded data removed]",
      "text/plain": [
       "<Figure size 432x288 with 1 Axes>"
      ]
     },
     "metadata": {
      "needs_background": "light"
     },
     "output_type": "display_data"
    }
   ],
   "source": [
    "centroids = k_means.cluster_centers_\n",
    "\n",
    "plt.plot(centroids.T)"
   ]
  },
  {
   "cell_type": "code",
   "execution_count": 72,
   "id": "0dc294ff",
   "metadata": {},
   "outputs": [],
   "source": [
    "def assign_cluster(centroid_list, dic):\n",
    "    \"\"\"\n",
    "    Assigns each review to a cluster.\n",
    "    \n",
    "    Args:\n",
    "        centroid_list: List of centroids in their vector format.\n",
    "        dic: Dictionary of signatures of reviews.\n",
    "    Returns:\n",
    "        assignments: Dictionary of reviews and their cluster.\n",
    "    \"\"\"\n",
    "    assignments = {}\n",
    "    for ix, sig in enumerate(list(dic.items())):\n",
    "        distances = []\n",
    "        for j, centroid in enumerate(centroid_list):\n",
    "            distances.append(np.linalg.norm(centroid-sig[1]))\n",
    "        assignments[ix] = np.argmin(distances)\n",
    "    return assignments"
   ]
  },
  {
   "cell_type": "code",
   "execution_count": 73,
   "id": "62b71545",
   "metadata": {},
   "outputs": [],
   "source": [
    "assigned = assign_cluster(centroids, sigs)"
   ]
  },
  {
   "cell_type": "code",
   "execution_count": 76,
   "id": "e75f5f70",
   "metadata": {},
   "outputs": [
    {
     "data": {
      "image/png": "[encoded data removed]",
      "text/plain": [
       "<Figure size 432x288 with 1 Axes>"
      ]
     },
     "metadata": {
      "needs_background": "light"
     },
     "output_type": "display_data"
    },
    {
     "data": {
      "image/png": "[encoded data removed]",
      "text/plain": [
       "<Figure size 432x288 with 1 Axes>"
      ]
     },
     "metadata": {
      "needs_background": "light"
     },
     "output_type": "display_data"
    },
    {
     "data": {
      "image/png": "[encoded data removed]",
      "text/plain": [
       "<Figure size 432x288 with 1 Axes>"
      ]
     },
     "metadata": {
      "needs_background": "light"
     },
     "output_type": "display_data"
    },
    {
     "data": {
      "image/png": "[encoded data removed]",
      "text/plain": [
       "<Figure size 432x288 with 1 Axes>"
      ]
     },
     "metadata": {
      "needs_background": "light"
     },
     "output_type": "display_data"
    },
    {
     "data": {
      "image/png": "[encoded data removed]",
      "text/plain": [
       "<Figure size 432x288 with 1 Axes>"
      ]
     },
     "metadata": {
      "needs_background": "light"
     },
     "output_type": "display_data"
    },
    {
     "data": {
      "image/png": "[encoded data removed]",
      "text/plain": [
       "<Figure size 432x288 with 1 Axes>"
      ]
     },
     "metadata": {
      "needs_background": "light"
     },
     "output_type": "display_data"
    }
   ],
   "source": [
    "plt.hist(list(assigned.values()))\n",
    "plt.title(\"Number of reviews assigned to each cluster\")\n",
    "plt.show()\n",
    "for i in range(len(centroids)):\n",
    "    df_slice = df.loc[pd.Series(list(assigned.values())) == i]\n",
    "    #print(df_slice)\n",
    "    #review_lengths = [len(df_slice.Clean_Review.values[i]) for i in range(len(df_slice.Clean_Review.values))]\n",
    "    plt.hist(df_slice['overall'])\n",
    "    plt.title(str(\"Distribution of review ratings in cluster \"+ str(i+1)))\n",
    "    plt.show()\n",
    "    #plt.hist(review_lengths)\n",
    "    #plt.show()"
   ]
  },
  {
   "cell_type": "code",
   "execution_count": 81,
   "id": "bd74b7b6",
   "metadata": {},
   "outputs": [
    {
     "data": {
      "image/png": "[encoded data removed]",
      "text/plain": [
       "<Figure size 864x576 with 2 Axes>"
      ]
     },
     "metadata": {
      "needs_background": "light"
     },
     "output_type": "display_data"
    }
   ],
   "source": [
    "from sklearn.decomposition import PCA\n",
    "\n",
    "labels = k_means.labels_\n",
    "\n",
    "pca = PCA(n_components=4)\n",
    "reduced_X = pca.fit_transform(X)\n",
    "plt.figure(figsize=(12, 8))\n",
    "plt.scatter(reduced_X[:, 0], reduced_X[:, 1], c=labels, cmap='viridis', marker='o')\n",
    "plt.title('Word Vectors Clustering')\n",
    "plt.xlabel('Component 1')\n",
    "plt.ylabel('Component 2')\n",
    "plt.colorbar(label='Cluster Label')\n",
    "plt.show()\n"
   ]
  },
  {
   "cell_type": "code",
   "execution_count": 182,
   "id": "5f3682fe",
   "metadata": {},
   "outputs": [],
   "source": [
    "from collections import Counter\n",
    "\n",
    "def get_tf_idf(df_docs,assignments = None):\n",
    "    documents = np.array(df_docs.Clean_Review.values)\n",
    "    \n",
    "    N = len(documents)\n",
    "    \n",
    "    all_words = {}\n",
    "    \n",
    "    # Get number of document appearances for all words:\n",
    "    for i in range(N):\n",
    "        text = str(documents[i]).split(\" \")\n",
    "        unique_words = np.unique(text)\n",
    "        \n",
    "        for word in unique_words:\n",
    "            if word not in all_words.keys():\n",
    "                all_words[word] = 1\n",
    "            else:\n",
    "                all_words[word] = all_words[word] + 1\n",
    "    \n",
    "    \n",
    "    \n",
    "    if not(assignments is None):\n",
    "        \"\"\" Collect all text from reviews in a cluster into one single 'document' \"\"\"\n",
    "        assignments = np.asarray(list(assignments.values()))\n",
    "        clusters = np.unique(assignments)\n",
    "        documents = []\n",
    "        for i in clusters:\n",
    "            cluster_reviews = df.loc[assignments == i,\"Clean_Review\"].values\n",
    "            all_text = cluster_reviews[0]\n",
    "            for j in range(1, len(cluster_reviews)):\n",
    "                all_text += \" \" + str(cluster_reviews[j])\n",
    "            documents.append(all_text)\n",
    "        documents = np.asarray(documents,str)\n",
    "        \n",
    "        N = len(documents)\n",
    "        \n",
    "        all_words_clusters = {}\n",
    "\n",
    "        # Get number of document appearances for all words:\n",
    "        for i in range(N):\n",
    "            text = str(documents[i]).split(\" \")\n",
    "            unique_words = np.unique(text)\n",
    "\n",
    "            for word in unique_words:\n",
    "                if all_words[word] <= 5:\n",
    "                    continue\n",
    "                elif word not in all_words_clusters.keys():\n",
    "                    all_words_clusters[word] = 1\n",
    "                else:\n",
    "                    all_words_clusters[word] = all_words_clusters[word] + 1\n",
    "        all_words = all_words_clusters\n",
    "        \n",
    "        tf_idf = {}\n",
    "        tf_idf_sparse_matrix = []\n",
    "        for i in range(N):\n",
    "            text = str(documents[i]).split(\" \")\n",
    "            word_freq = Counter(text)\n",
    "            max_freq = max(word_freq.values())\n",
    "            tf_doc = {}\n",
    "\n",
    "            tf_idf_vector = np.zeros(len(all_words))\n",
    "            for word in all_words.keys():\n",
    "                if word in word_freq.keys():\n",
    "                    tf_doc[word] = word_freq[word]/max_freq*np.log2(N/all_words[word])\n",
    "                    index = list(all_words).index(word)\n",
    "                    tf_idf_vector[index] = tf_doc[word]\n",
    "            tf_idf[i] = tf_doc\n",
    "            tf_idf_sparse_matrix.append(tf_idf_vector)\n",
    "        tf_idf_sparse_matrix = np.asarray(tf_idf_sparse_matrix)\n",
    "    else:\n",
    "        tf_idf = {}\n",
    "        tf_idf_sparse_matrix = []\n",
    "        for i in range(N):\n",
    "            text = str(documents[i]).split(\" \")\n",
    "            word_freq = calculate_word_frequency(text)\n",
    "            max_freq = max(word_freq.values())\n",
    "            tf_doc = {}\n",
    "\n",
    "            tf_idf_vector = np.zeros(len(all_words))        \n",
    "            for word in word_freq.items():\n",
    "                tf_doc[word[0]] = word[1]/max_freq*np.log2(N/all_words[word[0]])\n",
    "\n",
    "                index = list(all_words).index(word[0])\n",
    "\n",
    "                tf_idf_vector[index] = tf_doc[word[0]]\n",
    "\n",
    "            tf_idf[i] = tf_doc\n",
    "            tf_idf_sparse_matrix.append(tf_idf_vector)\n",
    "        tf_idf_sparse_matrix = np.asarray(tf_idf_sparse_matrix)\n",
    "    \n",
    "    return tf_idf, tf_idf_sparse_matrix, all_words\n",
    "\n",
    "def find_n_largest_tfidf(tf_idf,n=5):\n",
    "    largest_tfidf = {}\n",
    "    for key in tf_idf:\n",
    "        word_dict = tf_idf[key]\n",
    "        words = np.asarray(list(word_dict.keys()))\n",
    "        values = np.asarray(list(word_dict.values()))\n",
    "        sort_values = np.argsort(values)[-n:][::-1]\n",
    "        high_tf_idf = {}\n",
    "        for i in sort_values:\n",
    "            high_tf_idf[words[i]] = word_dict[words[i]]\n",
    "        largest_tfidf[key] = high_tf_idf\n",
    "    return largest_tfidf\n"
   ]
  },
  {
   "cell_type": "code",
   "execution_count": 189,
   "id": "0d643b73",
   "metadata": {},
   "outputs": [],
   "source": [
    "tf_idf, tf_idf_sp_mat, all_words_count = get_tf_idf(df)"
   ]
  },
  {
   "cell_type": "code",
   "execution_count": 192,
   "id": "1dc5be4b",
   "metadata": {},
   "outputs": [
    {
     "data": {
      "text/plain": [
       "array([[ 0.22507841,  0.14042772,  0.52995802, ...,  0.        ,\n",
       "         0.        ,  0.        ],\n",
       "       [ 0.        ,  0.        ,  1.32489505, ...,  0.        ,\n",
       "         0.        ,  0.        ],\n",
       "       [ 0.        ,  0.        ,  0.        , ...,  0.        ,\n",
       "         0.        ,  0.        ],\n",
       "       ...,\n",
       "       [ 0.        ,  0.57447705,  0.        , ...,  1.06387324,\n",
       "         1.06387324,  0.        ],\n",
       "       [ 0.        ,  0.        ,  0.        , ...,  0.        ,\n",
       "         0.        ,  0.        ],\n",
       "       [ 0.        ,  0.        ,  0.        , ...,  0.        ,\n",
       "         0.        , 11.7026056 ]])"
      ]
     },
     "execution_count": 192,
     "metadata": {},
     "output_type": "execute_result"
    }
   ],
   "source": [
    "tf_idf_sp_mat"
   ]
  },
  {
   "cell_type": "code",
   "execution_count": 172,
   "id": "dfea1b6d",
   "metadata": {},
   "outputs": [],
   "source": [
    "tf_idf_clusters, tf_idf_sp_mat, all_words = get_tf_idf(df, assigned)"
   ]
  },
  {
   "cell_type": "code",
   "execution_count": 174,
   "id": "f8a250ae",
   "metadata": {},
   "outputs": [
    {
     "data": {
      "text/plain": [
       "{0: {'one': 0.5813038853739215,\n",
       "  'computer': 0.5192981376007032,\n",
       "  'software': 0.49371093550548234,\n",
       "  'program': 0.4681051819622482,\n",
       "  'go': 0.45757945347458323},\n",
       " 1: {'product': 0.42431352391387633,\n",
       "  'work': 0.32192809488736235,\n",
       "  'great': 0.2926619044430567,\n",
       "  'much': 0.17865832585847424,\n",
       "  'price': 0.17865832585847424},\n",
       " 2: {'nan': 0.6965784284662087,\n",
       "  'okay': 0.3965784284662087,\n",
       "  'work': 0.32192809488736235,\n",
       "  'ok': 0.28973528539862614,\n",
       "  'satisfied': 0.2643856189774725},\n",
       " 3: {'product': 0.4454792024437515,\n",
       "  'computer': 0.404470536495387,\n",
       "  'year': 0.3574833106030105,\n",
       "  'use': 0.32192809488736235,\n",
       "  'software': 0.26398767552222313},\n",
       " 4: {'good': 0.32192809488736235,\n",
       "  'sw': 0.06957516288880855,\n",
       "  'far': 0.03878766285085296,\n",
       "  'enough': 0.03878766285085296,\n",
       "  'thought': 0.016943583941440122}}"
      ]
     },
     "execution_count": 174,
     "metadata": {},
     "output_type": "execute_result"
    }
   ],
   "source": [
    "find_n_largest_tfidf(tf_idf_clusters, n=5)"
   ]
  },
  {
   "cell_type": "code",
   "execution_count": 140,
   "id": "2e3ade70",
   "metadata": {},
   "outputs": [
    {
     "data": {
      "text/plain": [
       "0"
      ]
     },
     "execution_count": 140,
     "metadata": {},
     "output_type": "execute_result"
    }
   ],
   "source": []
  },
  {
   "cell_type": "markdown",
   "id": "5723ff0d",
   "metadata": {},
   "source": [
    "## Supervised learning with tf_idf\n"
   ]
  },
  {
   "cell_type": "code",
   "execution_count": 101,
   "id": "819e09d1",
   "metadata": {},
   "outputs": [],
   "source": [
    "df_neg = df.loc[df['overall']<2.5]\n",
    "df_neu = df.loc[df['overall']==3]\n",
    "df_pos = df.loc[df['overall']>3.5]"
   ]
  },
  {
   "cell_type": "code",
   "execution_count": 179,
   "id": "a7dbe504",
   "metadata": {},
   "outputs": [],
   "source": [
    "assignments = {}\n",
    "for i in range(len(df.index)):\n",
    "    rating = df.iloc[i]['overall']\n",
    "    assignments[i] = (-1 if rating < 2.5 else (1 if rating > 3.5 else 0))"
   ]
  },
  {
   "cell_type": "code",
   "execution_count": 183,
   "id": "316c4291",
   "metadata": {},
   "outputs": [],
   "source": [
    "tf_idf_clusters = get_tf_idf(df, assignments)"
   ]
  },
  {
   "cell_type": "code",
   "execution_count": 202,
   "id": "6a2b2d0a",
   "metadata": {},
   "outputs": [
    {
     "data": {
      "text/plain": [
       "{0: {'august': 0.01859799544522869,\n",
       "  'tile': 0.012583939063753685,\n",
       "  'crappy': 0.01239866363015246,\n",
       "  'unusable': 0.010677281629851612,\n",
       "  'deletion': 0.008770624195949539,\n",
       "  'moneydance': 0.008770624195949539,\n",
       "  'crap': 0.008389292709169124,\n",
       "  'insult': 0.008265775753434972,\n",
       "  'july': 0.007626629735608295,\n",
       "  'shame': 0.007626629735608295,\n",
       "  'ibank': 0.006482635275267051,\n",
       "  'eel': 0.00619933181507623,\n",
       "  'china': 0.00619933181507623,\n",
       "  'worthless': 0.006101303788486635,\n",
       "  'revert': 0.006101303788486635,\n",
       "  'cripple': 0.005719972301706221,\n",
       "  'brokerage': 0.005338640814925806,\n",
       "  'india': 0.004957309328145391,\n",
       "  'worst': 0.004957309328145391,\n",
       "  'greed': 0.004575977841364977,\n",
       "  'trash': 0.004575977841364977,\n",
       "  'disappointing': 0.004194646354584562,\n",
       "  'broadband': 0.004194646354584562,\n",
       "  'everywhere': 0.004194646354584562,\n",
       "  'quicker': 0.004194646354584562,\n",
       "  'massive': 0.004194646354584562,\n",
       "  'reboots': 0.0038133148678041475,\n",
       "  'avira': 0.0038133148678041475,\n",
       "  'lousy': 0.0038133148678041475,\n",
       "  'uninstaller': 0.0038133148678041475,\n",
       "  'fiasco': 0.0038133148678041475,\n",
       "  'rename': 0.0038133148678041475,\n",
       "  'avail': 0.0038133148678041475,\n",
       "  'wall': 0.0038133148678041475,\n",
       "  'randomly': 0.0038133148678041475,\n",
       "  'owe': 0.0034319833810237325,\n",
       "  'pending': 0.0034319833810237325,\n",
       "  'capacity': 0.0034319833810237325,\n",
       "  'halt': 0.0034319833810237325,\n",
       "  'unreliable': 0.0034319833810237325,\n",
       "  'dangerous': 0.0034319833810237325,\n",
       "  'reply': 0.0034319833810237325,\n",
       "  'capital': 0.0034319833810237325,\n",
       "  'attitude': 0.0034319833810237325,\n",
       "  'blink': 0.0034319833810237325,\n",
       "  'dash': 0.0034319833810237325,\n",
       "  'cease': 0.0034319833810237325,\n",
       "  'abandon': 0.0034319833810237325,\n",
       "  'loose': 0.0034319833810237325,\n",
       "  'quarantine': 0.0030506518942433176,\n",
       "  'afterwards': 0.0030506518942433176,\n",
       "  'broken': 0.0030506518942433176,\n",
       "  'freezes': 0.0030506518942433176,\n",
       "  'earn': 0.0030506518942433176,\n",
       "  'backward': 0.0030506518942433176,\n",
       "  'useable': 0.0030506518942433176,\n",
       "  'endure': 0.0030506518942433176,\n",
       "  'modest': 0.0030506518942433176,\n",
       "  'incorrectly': 0.0030506518942433176,\n",
       "  'invasive': 0.002669320407462903,\n",
       "  'ought': 0.002669320407462903,\n",
       "  'parameter': 0.002669320407462903,\n",
       "  'presence': 0.002669320407462903,\n",
       "  'existence': 0.002669320407462903,\n",
       "  'target': 0.002669320407462903,\n",
       "  'verification': 0.002669320407462903,\n",
       "  'interrupt': 0.002669320407462903,\n",
       "  'proven': 0.002669320407462903,\n",
       "  'unfortunate': 0.002669320407462903,\n",
       "  'substantial': 0.002669320407462903,\n",
       "  'omit': 0.002669320407462903,\n",
       "  'door': 0.002669320407462903,\n",
       "  'vision': 0.0022879889206824885,\n",
       "  'fatal': 0.0022879889206824885,\n",
       "  'malfunction': 0.0022879889206824885,\n",
       "  'certify': 0.0022879889206824885,\n",
       "  'extreme': 0.0022879889206824885,\n",
       "  'huh': 0.0022879889206824885,\n",
       "  'albeit': 0.0022879889206824885,\n",
       "  'imho': 0.0022879889206824885,\n",
       "  'margin': 0.0022879889206824885,\n",
       "  'suckered': 0.0022879889206824885,\n",
       "  'privilege': 0.0022879889206824885,\n",
       "  'menus': 0.0022879889206824885,\n",
       "  'sheer': 0.0022879889206824885,\n",
       "  'pathetic': 0.0022879889206824885,\n",
       "  'ride': 0.0022879889206824885,\n",
       "  'tolerate': 0.0022879889206824885,\n",
       "  'bait': 0.0022879889206824885,\n",
       "  'ongoing': 0.0022879889206824885,\n",
       "  'dime': 0.0022879889206824885,\n",
       "  'validation': 0.0022879889206824885,\n",
       "  'restarts': 0.0022879889206824885,\n",
       "  'framework': 0.0022879889206824885,\n",
       "  'observe': 0.0022879889206824885,\n",
       "  'nut': 0.0022879889206824885,\n",
       "  'counter': 0.0022879889206824885,\n",
       "  'permanent': 0.0022879889206824885,\n",
       "  'incredible': 0.0022879889206824885,\n",
       "  'unpleasant': 0.0022879889206824885},\n",
       " 1: {'tile': 0.02261452966705501,\n",
       "  'genius': 0.005527996140835668,\n",
       "  'tower': 0.005025451037123335,\n",
       "  'jpeg': 0.004522905933411002,\n",
       "  'artwork': 0.004020360829698668,\n",
       "  'stroke': 0.004020360829698668,\n",
       "  'trailer': 0.0035178157259863345,\n",
       "  'dangerous': 0.0035178157259863345,\n",
       "  'ought': 0.0035178157259863345,\n",
       "  'smartphones': 0.0035178157259863345,\n",
       "  'libreoffice': 0.003015270622274001,\n",
       "  'extract': 0.003015270622274001,\n",
       "  'theory': 0.003015270622274001,\n",
       "  'restaurant': 0.003015270622274001,\n",
       "  'glitchy': 0.003015270622274001,\n",
       "  'unwieldy': 0.003015270622274001,\n",
       "  'similarly': 0.003015270622274001,\n",
       "  'override': 0.003015270622274001,\n",
       "  'replaces': 0.003015270622274001,\n",
       "  'vocabulary': 0.003015270622274001,\n",
       "  'revert': 0.003015270622274001,\n",
       "  'uncomfortable': 0.003015270622274001,\n",
       "  'treasure': 0.003015270622274001,\n",
       "  'introduction': 0.0025127255185616675,\n",
       "  'fiddle': 0.0025127255185616675,\n",
       "  'standby': 0.0025127255185616675,\n",
       "  'thin': 0.0025127255185616675,\n",
       "  'accommodate': 0.0025127255185616675,\n",
       "  'differ': 0.0025127255185616675,\n",
       "  'surround': 0.0025127255185616675,\n",
       "  'skype': 0.0025127255185616675,\n",
       "  'broadcast': 0.0025127255185616675,\n",
       "  'amazing': 0.002010180414849334,\n",
       "  'included': 0.002010180414849334,\n",
       "  'drill': 0.002010180414849334,\n",
       "  'neutral': 0.002010180414849334,\n",
       "  'imo': 0.002010180414849334,\n",
       "  'hybrid': 0.002010180414849334,\n",
       "  'extras': 0.002010180414849334,\n",
       "  'shame': 0.002010180414849334,\n",
       "  'indicator': 0.002010180414849334,\n",
       "  'brings': 0.002010180414849334,\n",
       "  'dreamweaver': 0.002010180414849334,\n",
       "  'cardboard': 0.002010180414849334,\n",
       "  'directive': 0.002010180414849334,\n",
       "  'independent': 0.002010180414849334,\n",
       "  'chief': 0.002010180414849334,\n",
       "  'psd': 0.002010180414849334,\n",
       "  'backups': 0.002010180414849334,\n",
       "  'likewise': 0.002010180414849334,\n",
       "  'vector': 0.002010180414849334,\n",
       "  'lip': 0.002010180414849334,\n",
       "  'supplement': 0.002010180414849334,\n",
       "  'aggravation': 0.002010180414849334,\n",
       "  'grief': 0.002010180414849334,\n",
       "  'particle': 0.002010180414849334,\n",
       "  'integrates': 0.002010180414849334,\n",
       "  'restarts': 0.002010180414849334,\n",
       "  'mediocre': 0.002010180414849334,\n",
       "  'slip': 0.002010180414849334,\n",
       "  'interrupt': 0.0015076353111370005,\n",
       "  'worthless': 0.0015076353111370005,\n",
       "  'absurd': 0.0015076353111370005,\n",
       "  'aggravate': 0.0015076353111370005,\n",
       "  'blackmoor': 0.0015076353111370005,\n",
       "  'assessment': 0.0015076353111370005,\n",
       "  'certify': 0.0015076353111370005,\n",
       "  'spite': 0.0015076353111370005,\n",
       "  'cs': 0.0015076353111370005,\n",
       "  'fx': 0.0015076353111370005,\n",
       "  'integrated': 0.0015076353111370005,\n",
       "  'wacom': 0.0015076353111370005,\n",
       "  'tools': 0.0015076353111370005,\n",
       "  'forced': 0.0015076353111370005,\n",
       "  'spare': 0.0015076353111370005,\n",
       "  'standpoint': 0.0015076353111370005,\n",
       "  'speedy': 0.0015076353111370005,\n",
       "  'rearrange': 0.0015076353111370005,\n",
       "  'narrow': 0.0015076353111370005,\n",
       "  'mavis': 0.0015076353111370005,\n",
       "  'lake': 0.0015076353111370005,\n",
       "  'freezes': 0.0015076353111370005,\n",
       "  'holiday': 0.0015076353111370005,\n",
       "  'simultaneously': 0.0015076353111370005,\n",
       "  'verification': 0.0015076353111370005,\n",
       "  'easiest': 0.0015076353111370005,\n",
       "  'french': 0.0015076353111370005,\n",
       "  'avira': 0.0015076353111370005,\n",
       "  'devote': 0.0015076353111370005,\n",
       "  'unusable': 0.0015076353111370005,\n",
       "  'cripple': 0.0015076353111370005,\n",
       "  'facial': 0.0015076353111370005,\n",
       "  'entertain': 0.0015076353111370005,\n",
       "  'sneak': 0.001005090207424667,\n",
       "  'slows': 0.001005090207424667,\n",
       "  'crashed': 0.001005090207424667,\n",
       "  'uninstaller': 0.001005090207424667,\n",
       "  'worst': 0.001005090207424667,\n",
       "  'unreliable': 0.001005090207424667,\n",
       "  'rename': 0.001005090207424667},\n",
       " 2: {'sketch': 0.012298448114228176,\n",
       "  'hub': 0.009223836085671133,\n",
       "  'hdr': 0.007943234733361965,\n",
       "  'watercolor': 0.00768653007139261,\n",
       "  'firmware': 0.00768653007139261,\n",
       "  'nik': 0.00768653007139261,\n",
       "  'amaze': 0.007375860823836111,\n",
       "  'amazing': 0.0070921738690731834,\n",
       "  'reside': 0.0069178770642533485,\n",
       "  'modem': 0.0062411130047844016,\n",
       "  'vector': 0.005106365185732692,\n",
       "  'transport': 0.004611918042835566,\n",
       "  'virtualization': 0.004611918042835566,\n",
       "  'duration': 0.004611918042835566,\n",
       "  'pencil': 0.004611918042835566,\n",
       "  'membership': 0.004538991276206838,\n",
       "  'french': 0.003971617366680983,\n",
       "  'ibank': 0.003971617366680983,\n",
       "  'blackmoor': 0.0036879304119180555,\n",
       "  'target': 0.0036879304119180555,\n",
       "  'magix': 0.0036879304119180555,\n",
       "  'bracket': 0.0036879304119180555,\n",
       "  'brokerage': 0.0036879304119180555,\n",
       "  'trace': 0.0036879304119180555,\n",
       "  'stack': 0.0036879304119180555,\n",
       "  'slideshows': 0.0034042434571551284,\n",
       "  'vocabulary': 0.0034042434571551284,\n",
       "  'landscape': 0.0034042434571551284,\n",
       "  'integrated': 0.0031205565023922008,\n",
       "  'capacity': 0.0031205565023922008,\n",
       "  'incredible': 0.0031205565023922008,\n",
       "  'chief': 0.0028368695476292736,\n",
       "  'shake': 0.0028368695476292736,\n",
       "  'vmware': 0.0028368695476292736,\n",
       "  'dock': 0.0028368695476292736,\n",
       "  'surround': 0.0028368695476292736,\n",
       "  'thumb': 0.0028368695476292736,\n",
       "  'substantial': 0.002553182592866346,\n",
       "  'introduction': 0.002553182592866346,\n",
       "  'tiger': 0.002553182592866346,\n",
       "  'cs': 0.002553182592866346,\n",
       "  'lake': 0.002553182592866346,\n",
       "  'dreamweaver': 0.002553182592866346,\n",
       "  'boy': 0.002269495638103419,\n",
       "  'bird': 0.002269495638103419,\n",
       "  'floppy': 0.002269495638103419,\n",
       "  'teeth': 0.002269495638103419,\n",
       "  'door': 0.002269495638103419,\n",
       "  'soundtrack': 0.002269495638103419,\n",
       "  'menus': 0.002269495638103419,\n",
       "  'included': 0.0019858086833404913,\n",
       "  'capital': 0.0019858086833404913,\n",
       "  'flickr': 0.0019858086833404913,\n",
       "  'conversational': 0.0019858086833404913,\n",
       "  'charitable': 0.0019858086833404913,\n",
       "  'treasure': 0.0019858086833404913,\n",
       "  'colleague': 0.0019858086833404913,\n",
       "  'straighten': 0.0019858086833404913,\n",
       "  'strength': 0.0019858086833404913,\n",
       "  'inclusion': 0.0019858086833404913,\n",
       "  'pic': 0.0019858086833404913,\n",
       "  'wall': 0.0019858086833404913,\n",
       "  'overview': 0.0019858086833404913,\n",
       "  'owe': 0.0019858086833404913,\n",
       "  'marry': 0.0019858086833404913,\n",
       "  'dive': 0.0019858086833404913,\n",
       "  'mavis': 0.0019858086833404913,\n",
       "  'enjoyable': 0.0019858086833404913,\n",
       "  'engage': 0.0019858086833404913,\n",
       "  'gpu': 0.0017021217285775642,\n",
       "  'altogether': 0.0017021217285775642,\n",
       "  'accompany': 0.0017021217285775642,\n",
       "  'nevertheless': 0.0017021217285775642,\n",
       "  'massive': 0.0017021217285775642,\n",
       "  'artwork': 0.0017021217285775642,\n",
       "  'supplement': 0.0017021217285775642,\n",
       "  'astound': 0.0017021217285775642,\n",
       "  'argument': 0.0017021217285775642,\n",
       "  'assist': 0.0017021217285775642,\n",
       "  'kernel': 0.0017021217285775642,\n",
       "  'margin': 0.0017021217285775642,\n",
       "  'newspaper': 0.0017021217285775642,\n",
       "  'quicker': 0.0017021217285775642,\n",
       "  'punch': 0.0017021217285775642,\n",
       "  'jan': 0.0017021217285775642,\n",
       "  'judge': 0.0017021217285775642,\n",
       "  'oil': 0.0017021217285775642,\n",
       "  'poke': 0.0017021217285775642,\n",
       "  'flawless': 0.0017021217285775642,\n",
       "  'america': 0.0017021217285775642,\n",
       "  'standpoint': 0.0017021217285775642,\n",
       "  'sql': 0.0017021217285775642,\n",
       "  'repetition': 0.0017021217285775642,\n",
       "  'hesitate': 0.0017021217285775642,\n",
       "  'invaluable': 0.0017021217285775642,\n",
       "  'television': 0.0017021217285775642,\n",
       "  'independent': 0.0017021217285775642,\n",
       "  'holiday': 0.0017021217285775642,\n",
       "  'skype': 0.0017021217285775642,\n",
       "  'technique': 0.0017021217285775642}}"
      ]
     },
     "execution_count": 202,
     "metadata": {},
     "output_type": "execute_result"
    }
   ],
   "source": [
    "find_n_largest_tfidf(tf_idf_clusters[0], n=100)"
   ]
  },
  {
   "cell_type": "code",
   "execution_count": 42,
   "id": "e400affb",
   "metadata": {},
   "outputs": [],
   "source": [
    "ass = np.asarray(list(assignments.values()))\n",
    "n_clusters = len(np.unique(ass))\n"
   ]
  },
  {
   "cell_type": "code",
   "execution_count": 201,
   "id": "368c09d0",
   "metadata": {},
   "outputs": [
    {
     "name": "stdout",
     "output_type": "stream",
     "text": [
      "0.0\n"
     ]
    },
    {
     "ename": "KeyError",
     "evalue": "'crap'",
     "output_type": "error",
     "traceback": [
      "\u001b[1;31m---------------------------------------------------------------------------\u001b[0m",
      "\u001b[1;31mKeyError\u001b[0m                                  Traceback (most recent call last)",
      "\u001b[1;32m~\\AppData\\Local\\Temp/ipykernel_23132/3608047213.py\u001b[0m in \u001b[0;36m<module>\u001b[1;34m\u001b[0m\n\u001b[0;32m      1\u001b[0m \u001b[0mprint\u001b[0m\u001b[1;33m(\u001b[0m\u001b[0mtf_idf_clusters\u001b[0m\u001b[1;33m[\u001b[0m\u001b[1;36m0\u001b[0m\u001b[1;33m]\u001b[0m\u001b[1;33m[\u001b[0m\u001b[1;36m0\u001b[0m\u001b[1;33m]\u001b[0m\u001b[1;33m[\u001b[0m\u001b[1;34m'good'\u001b[0m\u001b[1;33m]\u001b[0m\u001b[1;33m)\u001b[0m\u001b[1;33m\u001b[0m\u001b[1;33m\u001b[0m\u001b[0m\n\u001b[1;32m----> 2\u001b[1;33m \u001b[0mprint\u001b[0m\u001b[1;33m(\u001b[0m\u001b[0mtf_idf_clusters\u001b[0m\u001b[1;33m[\u001b[0m\u001b[1;36m0\u001b[0m\u001b[1;33m]\u001b[0m\u001b[1;33m[\u001b[0m\u001b[1;36m1\u001b[0m\u001b[1;33m]\u001b[0m\u001b[1;33m[\u001b[0m\u001b[1;34m'crap'\u001b[0m\u001b[1;33m]\u001b[0m\u001b[1;33m)\u001b[0m\u001b[1;33m\u001b[0m\u001b[1;33m\u001b[0m\u001b[0m\n\u001b[0m\u001b[0;32m      3\u001b[0m \u001b[0mprint\u001b[0m\u001b[1;33m(\u001b[0m\u001b[0mtf_idf_clusters\u001b[0m\u001b[1;33m[\u001b[0m\u001b[1;36m0\u001b[0m\u001b[1;33m]\u001b[0m\u001b[1;33m[\u001b[0m\u001b[1;36m2\u001b[0m\u001b[1;33m]\u001b[0m\u001b[1;33m[\u001b[0m\u001b[1;34m'crap'\u001b[0m\u001b[1;33m]\u001b[0m\u001b[1;33m)\u001b[0m\u001b[1;33m\u001b[0m\u001b[1;33m\u001b[0m\u001b[0m\n",
      "\u001b[1;31mKeyError\u001b[0m: 'crap'"
     ]
    }
   ],
   "source": [
    "print(tf_idf_clusters[0][0]['good'])\n",
    "print(tf_idf_clusters[0][1]['crap'])\n",
    "print(tf_idf_clusters[0][2]['crap'])"
   ]
  },
  {
   "cell_type": "code",
   "execution_count": null,
   "id": "699cf645",
   "metadata": {},
   "outputs": [],
   "source": []
  },
  {
   "cell_type": "markdown",
   "id": "d47206d0",
   "metadata": {},
   "source": [
    "n_clusters\n"
   ]
  },
  {
   "cell_type": "code",
   "execution_count": null,
   "id": "4798b3ea",
   "metadata": {},
   "outputs": [],
   "source": [
    "file = \"cluster_100_2_2.dat\"\n",
    "filepath = Path.cwd() / 'Data' / file\n",
    "n, d, points = load_dat(filepath)\n",
    "\n",
    "\n",
    "## The (naíve) k-means algorithm for 2D data and 2 cluster\n",
    "\n",
    "# Step 0: Initialisation\n",
    "# lets do the most basic initialisation \n",
    "# where points are picked at random\n",
    "\n",
    "idx = np.random.randint(len(points), size=2)\n",
    "representative_1, representative_2 = points[idx, :]\n",
    "\n",
    "cluster_1 = [representative_1]\n",
    "cluster_2 = [representative_2]\n",
    "labels = []\n",
    "\n",
    "def centroid(cluster_i):\n",
    "    return np.sum(cluster_i, axis=0) / len(cluster_i)\n",
    "\n",
    "# (Re)assign each data point p to the cluster C_i\n",
    "# for which the distance between p and the centroid\n",
    "# of C_i\n",
    "for p in points:\n",
    "    \n",
    "    # lets use euclidean distance\n",
    "    d_1 = np.sqrt(np.sum(np.square(centroid(cluster_1) - p)))\n",
    "    d_2 = np.sqrt(np.sum(np.square(centroid(cluster_2) - p)))\n",
    "    \n",
    "    if d_1 < d_2:\n",
    "        cluster_1.append(p)\n",
    "        labels.append(1)\n",
    "    else:\n",
    "        cluster_2.append(p)\n",
    "        labels.append(2)\n",
    "        \n",
    "plt.scatter(points[:, 0], points[:, 1], c=labels)\n",
    "plt.show()"
   ]
  },
  {
   "cell_type": "code",
   "execution_count": null,
   "id": "d34cd04e",
   "metadata": {},
   "outputs": [],
   "source": []
  }
 ],
 "metadata": {
  "kernelspec": {
   "display_name": "Python 3 (ipykernel)",
   "language": "python",
   "name": "python3"
  },
  "language_info": {
   "codemirror_mode": {
    "name": "ipython",
    "version": 3
   },
   "file_extension": ".py",
   "mimetype": "text/x-python",
   "name": "python",
   "nbconvert_exporter": "python",
   "pygments_lexer": "ipython3",
   "version": "3.9.7"
  }
 },
 "nbformat": 4,
 "nbformat_minor": 5
}
