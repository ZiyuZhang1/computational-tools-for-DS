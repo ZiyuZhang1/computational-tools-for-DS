{
 "cells": [
  {
   "cell_type": "code",
   "execution_count": 2,
   "id": "e0b259d0",
   "metadata": {},
   "outputs": [],
   "source": [
    "import numpy as np\n",
    "import mmh3\n",
    "import os\n",
    "import pandas as pd\n",
    "import matplotlib.pyplot as plt"
   ]
  },
  {
   "cell_type": "markdown",
   "id": "2e8512e4",
   "metadata": {},
   "source": [
    "## Functions"
   ]
  },
  {
   "cell_type": "code",
   "execution_count": 3,
   "id": "45699b0a",
   "metadata": {},
   "outputs": [],
   "source": [
    "def shingle(aString, q, delimiter=' '):\n",
    "    \"\"\"\n",
    "    Input:\n",
    "        - aString (str): string to split into shingles\n",
    "        - q (int)\n",
    "        - delimiter (str): string of the delimiter to consider to split the input string (default: space)\n",
    "    Return: list of unique shingles\n",
    "    \"\"\"\n",
    "    \n",
    "    all_shingles = []\n",
    "    if delimiter != '':\n",
    "        words_list = aString.split(delimiter)\n",
    "    else:\n",
    "        words_list = aString\n",
    "    if len(words_list) < q:\n",
    "        q = len(words_list)\n",
    "    for i in range (len(words_list)-q+1):\n",
    "        all_shingles.append(delimiter.join(words_list[i:i+q]))\n",
    "    return list(set(all_shingles))\n",
    "\n",
    "def listhash(l,seed):\n",
    "    val = 0\n",
    "    for e in l:\n",
    "        val = val ^ mmh3.hash(e, seed)\n",
    "    return val \n",
    "\n",
    "def minhash(shingles_list, seed):\n",
    "    \"\"\"\n",
    "    Input:\n",
    "        - shingles_list (list of str): set of hashes\n",
    "        - seed (int): seed for listhash function\n",
    "    Return: minhash of given shingles\n",
    "    \"\"\"\n",
    "    minhash_value = np.inf\n",
    "    for aShingle in shingles_list:\n",
    "        hashcode = listhash([aShingle], seed)\n",
    "        if minhash_value == None or hashcode < minhash_value:\n",
    "            minhash_value = hashcode\n",
    "    return minhash_value\n",
    "\n",
    "def minhash2(shingles_list, k):\n",
    "    \"\"\"\n",
    "    Input:\n",
    "        - shingles_list (list of str): set of hashes\n",
    "        - k (int): seed for listhash function\n",
    "    Return: sequence of k minhashes\n",
    "    \"\"\"\n",
    "    all_minhash = []\n",
    "    for i in range(k):\n",
    "        all_minhash.append(minhash(shingles_list, i))\n",
    "    return all_minhash\n",
    "\n",
    "def signature(df_reviews, q = 3, num_hashes = 100):\n",
    "    \"\"\"\n",
    "    Input:\n",
    "        - dict_docs (dict of str:str): dictionary of {title:document}\n",
    "        - q (int)\n",
    "        - num_hashes (int)\n",
    "    Return: dictionary consisting of document idâ€™s as keys and signatures as values\n",
    "    \"\"\"\n",
    "    dict_signatures = {}\n",
    "    total_texts = len(df_reviews.index)\n",
    "    counter = 1\n",
    "    for ix, text in enumerate(df_reviews['Clean_Review']):\n",
    "        #print(f'{counter}/{total_texts} - {ix} - Processing...')\n",
    "        doc_shingles = shingle(text, q)\n",
    "        minhash_values = minhash2(doc_shingles, num_hashes)\n",
    "        dict_signatures[ix] = minhash_values\n",
    "        counter += 1\n",
    "    return dict_signatures\n",
    "\n",
    "def jaccard(name1, name2, signatures_dict):\n",
    "    \"\"\"\n",
    "    Input:\n",
    "        - name1 (str): key of the first document S\n",
    "        - name2 (str): key of the second document T\n",
    "        - signatures_dict (dict of str:list): dictionary of signatures\n",
    "    Return: Jaccard similarity between S and T\n",
    "    \"\"\"\n",
    "    signatures_doc1 = np.array(signatures_dict[name1])\n",
    "    signatures_doc2 = np.array(signatures_dict[name2])\n",
    "    return len(np.intersect1d(signatures_doc1, signatures_doc2))/len(np.union1d(signatures_doc1, signatures_doc2))\n",
    "\n",
    "def lsh(signatures_dict, jaccard_threshold=0.6, seed=42):\n",
    "    lsh_dict = {}\n",
    "    for key, values in signatures_dict.items():\n",
    "        blocks = np.split(np.array(values), b)\n",
    "        blocks_hash_values = []\n",
    "        for aBlock in blocks:\n",
    "            blocks_hash_values.append(mmh3.hash(aBlock, seed))\n",
    "        lsh_dict[key] = blocks_hash_values\n",
    "    list_keys = list(lsh_dict.keys())\n",
    "    similar_items = {}\n",
    "    for i in range (len(list_keys)-1):\n",
    "        print(i)\n",
    "        for j in range (i+1, len(list_keys)):\n",
    "            common_values = np.intersect1d(lsh_dict[list_keys[i]], lsh_dict[list_keys[j]])\n",
    "            if len(common_values) > 0:\n",
    "                # we found a candidate\n",
    "                similarity_score = jaccard(list_keys[i], list_keys[j], signatures_dict)\n",
    "                if similarity_score >= jaccard_threshold:\n",
    "                    similar_items[(list_keys[i], list_keys[j])] = similarity_score\n",
    "                    #print((list_keys[i], list_keys[j]))\n",
    "                    #print(similar_items[(list_keys[i], list_keys[j])])\n",
    "    return similar_items"
   ]
  },
  {
   "cell_type": "markdown",
   "id": "a5c6f128",
   "metadata": {},
   "source": [
    "## Import data"
   ]
  },
  {
   "cell_type": "code",
   "execution_count": 4,
   "id": "e213a4d1",
   "metadata": {},
   "outputs": [],
   "source": [
    "root = os.getcwd()\n",
    "df = pd.read_csv(root + \"\\clean_sample_data.csv\")"
   ]
  },
  {
   "cell_type": "code",
   "execution_count": 5,
   "id": "85e8d896",
   "metadata": {},
   "outputs": [
    {
     "data": {
      "text/html": [
       "<div>\n",
       "<style scoped>\n",
       "    .dataframe tbody tr th:only-of-type {\n",
       "        vertical-align: middle;\n",
       "    }\n",
       "\n",
       "    .dataframe tbody tr th {\n",
       "        vertical-align: top;\n",
       "    }\n",
       "\n",
       "    .dataframe thead th {\n",
       "        text-align: right;\n",
       "    }\n",
       "</style>\n",
       "<table border=\"1\" class=\"dataframe\">\n",
       "  <thead>\n",
       "    <tr style=\"text-align: right;\">\n",
       "      <th></th>\n",
       "      <th>overall</th>\n",
       "      <th>reviewText</th>\n",
       "      <th>Clean_Review</th>\n",
       "    </tr>\n",
       "  </thead>\n",
       "  <tbody>\n",
       "    <tr>\n",
       "      <th>0</th>\n",
       "      <td>1.0</td>\n",
       "      <td>Poorest operating system Microsoft ever made. ...</td>\n",
       "      <td>poor operating system microsoft ever make long...</td>\n",
       "    </tr>\n",
       "    <tr>\n",
       "      <th>1</th>\n",
       "      <td>1.0</td>\n",
       "      <td>Currently using Quicken version 2006, using Wi...</td>\n",
       "      <td>currently use quicken version use window xp pr...</td>\n",
       "    </tr>\n",
       "    <tr>\n",
       "      <th>2</th>\n",
       "      <td>1.0</td>\n",
       "      <td>The download for this product takes 3 to 4 hou...</td>\n",
       "      <td>download product take hour two time far result...</td>\n",
       "    </tr>\n",
       "    <tr>\n",
       "      <th>3</th>\n",
       "      <td>1.0</td>\n",
       "      <td>This is the worst antivirus program I've ever ...</td>\n",
       "      <td>bad antivirus program ive ever try install com...</td>\n",
       "    </tr>\n",
       "    <tr>\n",
       "      <th>4</th>\n",
       "      <td>1.0</td>\n",
       "      <td>Used turbotax for years.whatever happened to t...</td>\n",
       "      <td>use turbotax years.whatever happen dont know s...</td>\n",
       "    </tr>\n",
       "  </tbody>\n",
       "</table>\n",
       "</div>"
      ],
      "text/plain": [
       "   overall                                         reviewText  \\\n",
       "0      1.0  Poorest operating system Microsoft ever made. ...   \n",
       "1      1.0  Currently using Quicken version 2006, using Wi...   \n",
       "2      1.0  The download for this product takes 3 to 4 hou...   \n",
       "3      1.0  This is the worst antivirus program I've ever ...   \n",
       "4      1.0  Used turbotax for years.whatever happened to t...   \n",
       "\n",
       "                                        Clean_Review  \n",
       "0  poor operating system microsoft ever make long...  \n",
       "1  currently use quicken version use window xp pr...  \n",
       "2  download product take hour two time far result...  \n",
       "3  bad antivirus program ive ever try install com...  \n",
       "4  use turbotax years.whatever happen dont know s...  "
      ]
     },
     "execution_count": 5,
     "metadata": {},
     "output_type": "execute_result"
    }
   ],
   "source": [
    "df.head()"
   ]
  },
  {
   "cell_type": "markdown",
   "id": "36bba7e3",
   "metadata": {},
   "source": [
    "## Create signatures for each review"
   ]
  },
  {
   "cell_type": "code",
   "execution_count": 6,
   "id": "4230d909",
   "metadata": {},
   "outputs": [],
   "source": [
    "k = 100\n",
    "b,r = 10, 10\n",
    "assert k == b*r\n",
    "\n",
    "sigs = signature(df, q = 2, num_hashes = k)\n",
    "\n",
    "# sim_items = lsh(sigs)\n"
   ]
  },
  {
   "cell_type": "markdown",
   "id": "0d89f787",
   "metadata": {},
   "source": [
    "## Clustering signatures"
   ]
  },
  {
   "cell_type": "code",
   "execution_count": 7,
   "id": "e6fa459b",
   "metadata": {},
   "outputs": [],
   "source": [
    "def dic_to_vec(dic):\n",
    "    \"\"\"\n",
    "    Create matrix of signatures usable by sklearn.\n",
    "    \n",
    "    args:\n",
    "        dic: Dictionary of review signatures\n",
    "    returns:\n",
    "        numpy matrix of dimensions (# of reviews, # of minhashes)\n",
    "    \"\"\"\n",
    "    for ix, sig in enumerate(list(dic.items())):\n",
    "        if ix == 0:\n",
    "            X = np.array([sig[1]])\n",
    "        else:\n",
    "            X = np.append(X,[sig[1]],axis=0)\n",
    "    return X"
   ]
  },
  {
   "cell_type": "code",
   "execution_count": 8,
   "id": "5c31c344",
   "metadata": {},
   "outputs": [],
   "source": [
    "X = dic_to_vec(sigs)"
   ]
  },
  {
   "cell_type": "code",
   "execution_count": 9,
   "id": "7a698f6e",
   "metadata": {},
   "outputs": [],
   "source": [
    "y = np.array(df.overall.values)"
   ]
  },
  {
   "cell_type": "code",
   "execution_count": 10,
   "id": "8227dc0d",
   "metadata": {},
   "outputs": [
    {
     "name": "stdout",
     "output_type": "stream",
     "text": [
      "[1. 1. 1. ... 5. 5. 5.]\n"
     ]
    }
   ],
   "source": [
    "print(y)"
   ]
  },
  {
   "cell_type": "code",
   "execution_count": 11,
   "id": "98b3b4df",
   "metadata": {},
   "outputs": [],
   "source": [
    "from sklearn.neighbors import KNeighborsClassifier\n",
    "from sklearn.cluster import KMeans\n",
    "#from sklearn.cluster import BisectingKMeans"
   ]
  },
  {
   "cell_type": "code",
   "execution_count": 12,
   "id": "62f51b71",
   "metadata": {},
   "outputs": [],
   "source": [
    "# Initialize classifier\n",
    "k_means = KMeans(n_clusters=5, random_state=0)"
   ]
  },
  {
   "cell_type": "code",
   "execution_count": 13,
   "id": "0788dbc5",
   "metadata": {},
   "outputs": [],
   "source": [
    "X_transform = k_means.fit_transform(X,y)"
   ]
  },
  {
   "cell_type": "code",
   "execution_count": 14,
   "id": "22f4a6c3",
   "metadata": {},
   "outputs": [
    {
     "data": {
      "text/plain": [
       "[<matplotlib.lines.Line2D at 0x26210a4c4c0>,\n",
       " <matplotlib.lines.Line2D at 0x26210a4c430>,\n",
       " <matplotlib.lines.Line2D at 0x26210a4c550>,\n",
       " <matplotlib.lines.Line2D at 0x26210a4c670>,\n",
       " <matplotlib.lines.Line2D at 0x26210a4c790>]"
      ]
     },
     "execution_count": 14,
     "metadata": {},
     "output_type": "execute_result"
    },
    {
     "data": {
      "image/png": "[encoded data removed]",
      "text/plain": [
       "<Figure size 432x288 with 1 Axes>"
      ]
     },
     "metadata": {
      "needs_background": "light"
     },
     "output_type": "display_data"
    }
   ],
   "source": [
    "centroids = k_means.cluster_centers_\n",
    "\n",
    "plt.plot(centroids.T)"
   ]
  },
  {
   "cell_type": "code",
   "execution_count": 15,
   "id": "0dc294ff",
   "metadata": {},
   "outputs": [],
   "source": [
    "def assign_cluster(centroid_list, dic):\n",
    "    \"\"\"\n",
    "    Assigns each review to a cluster.\n",
    "    \n",
    "    Args:\n",
    "        centroid_list: List of centroids in their vector format.\n",
    "        dic: Dictionary of signatures of reviews.\n",
    "    Returns:\n",
    "        assignments: Dictionary of reviews and their cluster.\n",
    "    \"\"\"\n",
    "    assignments = {}\n",
    "    for ix, sig in enumerate(list(dic.items())):\n",
    "        distances = []\n",
    "        for j, centroid in enumerate(centroid_list):\n",
    "            distances.append(np.linalg.norm(centroid-sig[1]))\n",
    "        assignments[ix] = np.argmin(distances)\n",
    "    return assignments"
   ]
  },
  {
   "cell_type": "code",
   "execution_count": 16,
   "id": "62b71545",
   "metadata": {},
   "outputs": [],
   "source": [
    "assigned = assign_cluster(centroids, sigs)"
   ]
  },
  {
   "cell_type": "code",
   "execution_count": 17,
   "id": "e75f5f70",
   "metadata": {},
   "outputs": [
    {
     "data": {
      "image/png": "[encoded data removed]",
      "text/plain": [
       "<Figure size 432x288 with 1 Axes>"
      ]
     },
     "metadata": {
      "needs_background": "light"
     },
     "output_type": "display_data"
    },
    {
     "data": {
      "image/png": "[encoded data removed]",
      "text/plain": [
       "<Figure size 432x288 with 1 Axes>"
      ]
     },
     "metadata": {
      "needs_background": "light"
     },
     "output_type": "display_data"
    },
    {
     "data": {
      "image/png": "[encoded data removed]",
      "text/plain": [
       "<Figure size 432x288 with 1 Axes>"
      ]
     },
     "metadata": {
      "needs_background": "light"
     },
     "output_type": "display_data"
    },
    {
     "data": {
      "image/png": "[encoded data removed]",
      "text/plain": [
       "<Figure size 432x288 with 1 Axes>"
      ]
     },
     "metadata": {
      "needs_background": "light"
     },
     "output_type": "display_data"
    },
    {
     "data": {
      "image/png": "[encoded data removed]",
      "text/plain": [
       "<Figure size 432x288 with 1 Axes>"
      ]
     },
     "metadata": {
      "needs_background": "light"
     },
     "output_type": "display_data"
    },
    {
     "data": {
      "image/png": "[encoded data removed]",
      "text/plain": [
       "<Figure size 432x288 with 1 Axes>"
      ]
     },
     "metadata": {
      "needs_background": "light"
     },
     "output_type": "display_data"
    }
   ],
   "source": [
    "plt.hist(list(assigned.values()))\n",
    "plt.title(\"Number of reviews assigned to each cluster\")\n",
    "plt.show()\n",
    "for i in range(len(centroids)):\n",
    "    df_slice = df.loc[pd.Series(list(assigned.values())) == i]\n",
    "    review_lengths = [len(df_slice.Clean_Review.values[i]) for i in range(len(df_slice.Clean_Review.values))]\n",
    "    plt.hist(df_slice['overall'])\n",
    "    plt.title(str(\"Distribution of review ratings in cluster \"+ str(i+1)))\n",
    "    plt.show()\n",
    "    #plt.hist(review_lengths)\n",
    "    #plt.show()"
   ]
  },
  {
   "cell_type": "code",
   "execution_count": 18,
   "id": "7394f467",
   "metadata": {},
   "outputs": [
    {
     "data": {
      "image/png": "[encoded data removed]",
      "text/plain": [
       "<Figure size 864x576 with 2 Axes>"
      ]
     },
     "metadata": {
      "needs_background": "light"
     },
     "output_type": "display_data"
    }
   ],
   "source": [
    "from sklearn.decomposition import PCA\n",
    "\n",
    "labels = k_means.labels_\n",
    "\n",
    "pca = PCA(n_components=4)\n",
    "reduced_X = pca.fit_transform(X)\n",
    "plt.figure(figsize=(12, 8))\n",
    "plt.scatter(reduced_X[:, 0], reduced_X[:, 1], c=labels, cmap='viridis', marker='o')\n",
    "plt.title('Word Vectors Clustering')\n",
    "plt.xlabel('Component 1')\n",
    "plt.ylabel('Component 2')\n",
    "plt.colorbar(label='Cluster Label')\n",
    "plt.show()\n"
   ]
  },
  {
   "cell_type": "markdown",
   "id": "8a815dd8",
   "metadata": {},
   "source": []
  },
  {
   "cell_type": "code",
   "execution_count": 45,
   "id": "5f3682fe",
   "metadata": {},
   "outputs": [],
   "source": [
    "from collections import Counter\n",
    "\n",
    "def calculate_word_frequency(review):\n",
    "    # Use Counter to count the frequency of each word\n",
    "    word_freq = Counter(review)\n",
    "    \n",
    "    return word_freq\n",
    "\n",
    "def get_tf_idf(df_docs,assignments = None):\n",
    "    if assignments is None:\n",
    "        documents = np.array(df_docs.Clean_Review.values)\n",
    "    else:\n",
    "        assignments = np.asarray(list(assignments.values()))\n",
    "        clusters = np.unique(assignments)\n",
    "        documents = []\n",
    "        for i in clusters:\n",
    "            cluster_reviews = df.loc[assignments == i,\"Clean_Review\"].values\n",
    "            all_text = cluster_reviews[0]\n",
    "            for j in range(1, len(cluster_reviews)):\n",
    "                all_text += \" \" + cluster_reviews[j]                \n",
    "            documents.append(all_text)\n",
    "        documents = np.asarray(documents,str)\n",
    "    \n",
    "    N = len(documents)\n",
    "    \n",
    "    all_words = {}\n",
    "    \n",
    "    # Get number of document appearances for all words:\n",
    "    for i in range(N):\n",
    "        text = documents[i].split(\" \")\n",
    "        unique_words = np.unique(text)\n",
    "        \n",
    "        for word in unique_words:\n",
    "            if word not in all_words.keys():\n",
    "                all_words[word] = 1\n",
    "            else:\n",
    "                all_words[word] = all_words[word] + 1\n",
    "    \n",
    "    tf_idf = {}\n",
    "    \n",
    "    for i in range(N):\n",
    "        text = documents[i].split(\" \")\n",
    "        word_freq = calculate_word_frequency(text)\n",
    "        max_freq = max(word_freq.values())\n",
    "        tf_doc = {}\n",
    "        for word in word_freq.items():\n",
    "            tf_doc[word[0]] = word[1]/max_freq*np.log2(N/all_words[word[0]])\n",
    "        tf_idf[i] = tf_doc\n",
    "    \n",
    "    return tf_idf\n",
    "\n",
    "def find_n_largest_tfidf(tf_idf,n=5):\n",
    "    largest_tfidf = {}\n",
    "    for key in tf_idf:\n",
    "        word_dict = tf_idf[key]\n",
    "        words = np.asarray(list(word_dict.keys()))\n",
    "        values = np.asarray(list(word_dict.values()))\n",
    "        sort_values = np.argsort(values)[::-1]\n",
    "        high_tf_idf = {}\n",
    "        for i in range(n):\n",
    "            print\n",
    "            high_tf_idf[words[sort_values[i]]] = word_dict[words[sort_values[i]]]\n",
    "        largest_tfidf[key] = high_tf_idf\n",
    "    return largest_tfidf\n"
   ]
  },
  {
   "cell_type": "code",
   "execution_count": 20,
   "id": "0d643b73",
   "metadata": {},
   "outputs": [],
   "source": [
    "tf_idf = get_tf_idf(df)"
   ]
  },
  {
   "cell_type": "code",
   "execution_count": 1,
   "id": "eaf06f1d",
   "metadata": {},
   "outputs": [
    {
     "ename": "NameError",
     "evalue": "name 'tf_idf' is not defined",
     "output_type": "error",
     "traceback": [
      "\u001b[1;31m---------------------------------------------------------------------------\u001b[0m",
      "\u001b[1;31mNameError\u001b[0m                                 Traceback (most recent call last)",
      "\u001b[1;32m~\\AppData\\Local\\Temp/ipykernel_23132/2385484470.py\u001b[0m in \u001b[0;36m<module>\u001b[1;34m\u001b[0m\n\u001b[1;32m----> 1\u001b[1;33m \u001b[0mtf_idf\u001b[0m\u001b[1;33m\u001b[0m\u001b[1;33m\u001b[0m\u001b[0m\n\u001b[0m",
      "\u001b[1;31mNameError\u001b[0m: name 'tf_idf' is not defined"
     ]
    }
   ],
   "source": [
    "tf_idf"
   ]
  },
  {
   "cell_type": "code",
   "execution_count": 55,
   "id": "dfea1b6d",
   "metadata": {},
   "outputs": [],
   "source": [
    "tf_idf_clusters = get_tf_idf(df, assigned)"
   ]
  },
  {
   "cell_type": "code",
   "execution_count": 64,
   "id": "f8a250ae",
   "metadata": {},
   "outputs": [
    {
     "data": {
      "text/plain": [
       "{0: {'feature': 0.411604324989254,\n",
       "  'take': 0.35430713202199987,\n",
       "  'computer': 0.31991673183287545,\n",
       "  'time': 0.3120940099133757,\n",
       "  'system': 0.30431825448424243},\n",
       " 1: {'nice...as': 0.23219280948873622,\n",
       "  'operates': 0.23219280948873622,\n",
       "  'aapple': 0.23219280948873622,\n",
       "  'overbought': 0.23219280948873622,\n",
       "  'far': 0.14739311883324124},\n",
       " 2: {'computer': 0.3311004843355419,\n",
       "  'kajlak': 0.2692090544796942,\n",
       "  'jalkja': 0.2692090544796942,\n",
       "  'take': 0.20116297096112037,\n",
       "  'money': 0.20116297096112037},\n",
       " 3: {'junk--old': 0.10554218613124373,\n",
       "  'comupter': 0.10554218613124373,\n",
       "  'advertise': 0.10049530829539174,\n",
       "  'ladygamblertina@yahoo.com': 0.06699687219692783,\n",
       "  'receive': 0.06699687219692783},\n",
       " 4: {'computer': 0.18424139854155155,\n",
       "  'lossless': 0.16585200677766873,\n",
       "  'download': 0.10528079916660088,\n",
       "  'would': 0.10528079916660088,\n",
       "  'fast': 0.10528079916660088}}"
      ]
     },
     "execution_count": 64,
     "metadata": {},
     "output_type": "execute_result"
    }
   ],
   "source": [
    "find_n_largest_tfidf(tf_idf_clusters, n=5)"
   ]
  },
  {
   "cell_type": "markdown",
   "id": "bdff9685",
   "metadata": {},
   "source": [
    "## Supervised learning with tf_idf\n"
   ]
  },
  {
   "cell_type": "code",
   "execution_count": 46,
   "id": "4f228087",
   "metadata": {},
   "outputs": [],
   "source": [
    "df_neg = df.loc[df['overall']<2.5]\n",
    "df_neu = df.loc[df['overall']==3]\n",
    "df_pos = df.loc[df['overall']>3.5]"
   ]
  },
  {
   "cell_type": "code",
   "execution_count": 47,
   "id": "373ed875",
   "metadata": {},
   "outputs": [],
   "source": [
    "assignments = {}\n",
    "for i in range(len(df.index)):\n",
    "    rating = df.iloc[i]['overall']\n",
    "    assignments[i] = (-1 if rating < 2.5 else (1 if rating > 3.5 else 0))"
   ]
  },
  {
   "cell_type": "code",
   "execution_count": 48,
   "id": "316c4291",
   "metadata": {},
   "outputs": [],
   "source": [
    "tf_idf_clusters = get_tf_idf(df, assignments)"
   ]
  },
  {
   "cell_type": "code",
   "execution_count": 51,
   "id": "37d32018",
   "metadata": {},
   "outputs": [
    {
     "data": {
      "text/plain": [
       "{0: {'uefi': 0.016585611518337803,\n",
       "  'up-load': 0.015549010798441686,\n",
       "  'moneydance': 0.014512410078545574,\n",
       "  'scheduler': 0.014512410078545574,\n",
       "  'etrade': 0.011402607918857239,\n",
       "  'kasperskys': 0.011402607918857239,\n",
       "  'attitude': 0.010366007198961125,\n",
       "  'damn': 0.010366007198961125,\n",
       "  'lousy': 0.009329406479065014,\n",
       "  'uninstaller': 0.009329406479065014,\n",
       "  'freezes': 0.009329406479065014,\n",
       "  'endure': 0.008292805759168902,\n",
       "  'coherence': 0.008292805759168902,\n",
       "  'existence': 0.008292805759168902,\n",
       "  'ferrell': 0.007256205039272787,\n",
       "  'virgin': 0.007256205039272787,\n",
       "  'jerk': 0.007256205039272787,\n",
       "  'fiasco': 0.007256205039272787,\n",
       "  'battle': 0.007256205039272787,\n",
       "  're-release': 0.007256205039272787,\n",
       "  'hr': 0.006886412696521132,\n",
       "  'yesterday': 0.00650383421338107,\n",
       "  'foolish': 0.006219604319376675,\n",
       "  'dime': 0.006219604319376675,\n",
       "  'yell': 0.006219604319376675,\n",
       "  'dinosaur': 0.006219604319376675,\n",
       "  'contempt': 0.006219604319376675,\n",
       "  'itemization': 0.006219604319376675,\n",
       "  'incompetent': 0.006219604319376675,\n",
       "  'cortana': 0.006219604319376675,\n",
       "  'conceive': 0.006219604319376675,\n",
       "  'pile': 0.006219604319376675,\n",
       "  'mcafree': 0.006219604319376675,\n",
       "  'onedrive': 0.006219604319376675,\n",
       "  'microjunk': 0.006219604319376675,\n",
       "  'reopen': 0.006219604319376675,\n",
       "  'advertisement': 0.005738677247100943,\n",
       "  'reset': 0.005356098763960881,\n",
       "  'toolbars': 0.005356098763960881,\n",
       "  'za': 0.005356098763960881},\n",
       " 1: {'hallmark': 0.012329008216499918,\n",
       "  'photoimpact': 0.010959118414666593,\n",
       "  'programme': 0.008219338810999944,\n",
       "  'recode': 0.008219338810999944,\n",
       "  'prebate': 0.008219338810999944,\n",
       "  'skydrive': 0.008089369067881158,\n",
       "  'territory': 0.007583783501138585,\n",
       "  'zonealarm': 0.0070781979343960124,\n",
       "  'mt': 0.006849449009166621,\n",
       "  'dfx': 0.006849449009166621,\n",
       "  'winsxs': 0.006849449009166621,\n",
       "  'left-to-right': 0.006849449009166621,\n",
       "  'pctsd': 0.006849449009166621,\n",
       "  'vsp': 0.006067026800910868,\n",
       "  'independent': 0.005561441234168295,\n",
       "  'idvd': 0.005561441234168295,\n",
       "  'hi': 0.0054795592073332965,\n",
       "  'cap': 0.0054795592073332965,\n",
       "  'glassy': 0.0054795592073332965,\n",
       "  'penvellyn': 0.0054795592073332965,\n",
       "  'shut-down': 0.0054795592073332965,\n",
       "  'chief': 0.0054795592073332965,\n",
       "  'manor': 0.0054795592073332965,\n",
       "  'htpc': 0.0054795592073332965,\n",
       "  'tiffen': 0.0054795592073332965,\n",
       "  'unused': 0.0054795592073332965,\n",
       "  'vb': 0.0054795592073332965,\n",
       "  'msst': 0.0054795592073332965,\n",
       "  'photo/video': 0.0054795592073332965,\n",
       "  'cumul': 0.0054795592073332965,\n",
       "  'vsx': 0.0054795592073332965,\n",
       "  'slippage': 0.0054795592073332965,\n",
       "  'newblue': 0.0054795592073332965,\n",
       "  'knife': 0.0054795592073332965,\n",
       "  'listener': 0.0054795592073332965,\n",
       "  'eset': 0.0054795592073332965,\n",
       "  'rebooted': 0.0054795592073332965,\n",
       "  'ranch': 0.005055855667425724,\n",
       "  'amateur': 0.005055855667425724,\n",
       "  'dash': 0.005055855667425724},\n",
       " 2: {'autocad': 0.02914692471505108,\n",
       "  'lt': 0.022057132216795415,\n",
       "  'glo': 0.014967339718539743,\n",
       "  'kajlak': 0.01260407555245452,\n",
       "  'photomatix': 0.01260407555245452,\n",
       "  'jalkja': 0.01260407555245452,\n",
       "  'coreldraw': 0.011338736345986627,\n",
       "  'qbmac': 0.011028566108397708,\n",
       "  'rosettastone': 0.010240811386369298,\n",
       "  'hdr': 0.009303578540296717,\n",
       "  'ibank': 0.009012841710912446,\n",
       "  'ttax': 0.008665301942312484,\n",
       "  'bracket': 0.008665301942312484,\n",
       "  'antenna': 0.007877547220284076,\n",
       "  'time-lapse': 0.007877547220284076,\n",
       "  'pa': 0.007089792498255668,\n",
       "  'watercolor': 0.007089792498255668,\n",
       "  'revit': 0.007089792498255668,\n",
       "  'qbwin': 0.00630203777622726,\n",
       "  'netgear': 0.00630203777622726,\n",
       "  'emails': 0.00630203777622726,\n",
       "  'memo': 0.00630203777622726,\n",
       "  'lakjl': 0.00630203777622726,\n",
       "  'lka': 0.00630203777622726,\n",
       "  'jlakj': 0.00630203777622726,\n",
       "  'alkj': 0.00630203777622726,\n",
       "  'bibble': 0.00630203777622726,\n",
       "  'ajal': 0.00630203777622726,\n",
       "  'aftershot': 0.006105473417069722,\n",
       "  'autodesk': 0.006105473417069722,\n",
       "  'pp': 0.006105473417069722,\n",
       "  'amateur': 0.005814736587685449,\n",
       "  'za': 0.005523999758301176,\n",
       "  'hub': 0.005523999758301176,\n",
       "  'sketch': 0.005514283054198854,\n",
       "  'holiday': 0.005514283054198854,\n",
       "  'deductionpro': 0.005514283054198854,\n",
       "  'panther': 0.005514283054198854,\n",
       "  'donation': 0.005514283054198854,\n",
       "  'technique': 0.005514283054198854}}"
      ]
     },
     "execution_count": 51,
     "metadata": {},
     "output_type": "execute_result"
    }
   ],
   "source": [
    "find_n_largest_tfidf(tf_idf_clusters, n=40)"
   ]
  },
  {
   "cell_type": "code",
   "execution_count": 42,
   "id": "9f78f9ef",
   "metadata": {},
   "outputs": [],
   "source": [
    "ass = np.asarray(list(assignments.values()))\n",
    "n_clusters = len(np.unique(ass))\n"
   ]
  },
  {
   "cell_type": "code",
   "execution_count": 44,
   "id": "aea26c0d",
   "metadata": {},
   "outputs": [
    {
     "name": "stdout",
     "output_type": "stream",
     "text": [
      "3\n"
     ]
    }
   ],
   "source": [
    "np.unique(ass)\n",
    "print(n_clusters)"
   ]
  },
  {
   "cell_type": "code",
   "execution_count": null,
   "id": "6df82f9b",
   "metadata": {},
   "outputs": [],
   "source": []
  },
  {
   "cell_type": "markdown",
   "id": "caac589b",
   "metadata": {},
   "source": [
    "n_clusters\n"
   ]
  },
  {
   "cell_type": "code",
   "execution_count": null,
   "id": "4798b3ea",
   "metadata": {},
   "outputs": [],
   "source": [
    "file = \"cluster_100_2_2.dat\"\n",
    "filepath = Path.cwd() / 'Data' / file\n",
    "n, d, points = load_dat(filepath)\n",
    "\n",
    "\n",
    "## The (naíve) k-means algorithm for 2D data and 2 cluster\n",
    "\n",
    "# Step 0: Initialisation\n",
    "# lets do the most basic initialisation \n",
    "# where points are picked at random\n",
    "\n",
    "idx = np.random.randint(len(points), size=2)\n",
    "representative_1, representative_2 = points[idx, :]\n",
    "\n",
    "cluster_1 = [representative_1]\n",
    "cluster_2 = [representative_2]\n",
    "labels = []\n",
    "\n",
    "def centroid(cluster_i):\n",
    "    return np.sum(cluster_i, axis=0) / len(cluster_i)\n",
    "\n",
    "# (Re)assign each data point p to the cluster C_i\n",
    "# for which the distance between p and the centroid\n",
    "# of C_i\n",
    "for p in points:\n",
    "    \n",
    "    # lets use euclidean distance\n",
    "    d_1 = np.sqrt(np.sum(np.square(centroid(cluster_1) - p)))\n",
    "    d_2 = np.sqrt(np.sum(np.square(centroid(cluster_2) - p)))\n",
    "    \n",
    "    if d_1 < d_2:\n",
    "        cluster_1.append(p)\n",
    "        labels.append(1)\n",
    "    else:\n",
    "        cluster_2.append(p)\n",
    "        labels.append(2)\n",
    "        \n",
    "plt.scatter(points[:, 0], points[:, 1], c=labels)\n",
    "plt.show()"
   ]
  },
  {
   "cell_type": "code",
   "execution_count": null,
   "id": "d34cd04e",
   "metadata": {},
   "outputs": [],
   "source": []
  }
 ],
 "metadata": {
  "kernelspec": {
   "display_name": "Python 3 (ipykernel)",
   "language": "python",
   "name": "python3"
  },
  "language_info": {
   "codemirror_mode": {
    "name": "ipython",
    "version": 3
   },
   "file_extension": ".py",
   "mimetype": "text/x-python",
   "name": "python",
   "nbconvert_exporter": "python",
   "pygments_lexer": "ipython3",
   "version": "3.9.7"
  }
 },
 "nbformat": 4,
 "nbformat_minor": 5
}
