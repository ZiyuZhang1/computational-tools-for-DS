{
 "cells": [
  {
   "cell_type": "code",
   "execution_count": 1,
   "metadata": {},
   "outputs": [],
   "source": [
    "import numpy as np\n",
    "import mmh3\n",
    "import os\n",
    "import pandas as pd\n",
    "import matplotlib.pyplot as plt"
   ]
  },
  {
   "cell_type": "code",
   "execution_count": 2,
   "metadata": {},
   "outputs": [],
   "source": [
    "root = os.getcwd()\n",
    "df = pd.read_csv(root + \"/clean_sample_data.csv\")\n",
    "corpus_train = []\n",
    "corpus_test = []\n",
    "y_train = []\n",
    "y_test = []\n",
    "corpus_train_rating = []\n",
    "corpus_test_rating = []\n",
    "for rating in [1,3,5]:\n",
    "    corpus = np.asarray(df['Clean_Review'].loc[df['overall'] == rating])\n",
    "    label = np.asarray(df['overall'].loc[df['overall'] == rating])\n",
    "    split = int(len(corpus)*0.8)\n",
    "    corpus_train_rating.append(corpus[:split])\n",
    "    corpus_test_rating.append(corpus[split:])\n",
    "    corpus_train.extend(corpus[:split])\n",
    "    corpus_test.extend(corpus[split:])\n",
    "    y_train.extend(label[:split])\n",
    "    y_test.extend(label[split:])"
   ]
  },
  {
   "cell_type": "code",
   "execution_count": 3,
   "metadata": {},
   "outputs": [],
   "source": [
    "from sklearn.feature_extraction.text import CountVectorizer\n",
    "\n",
    "vectorizer = []\n",
    "vocab = np.array([])\n",
    "for i in [1,3,5]:\n",
    "    vectorizer.append(CountVectorizer(max_features=100, stop_words='english'))\n",
    "    vectorizer[i].fit(corpus_train_rating[i])\n",
    "    vocab = np.append(vocab, vectorizer[i].get_feature_names_out())\n",
    "vocab = np.unique(vocab)"
   ]
  },
  {
   "cell_type": "code",
   "execution_count": 4,
   "metadata": {},
   "outputs": [],
   "source": [
    "vectorizer = CountVectorizer(vocabulary=vocab)\n",
    "X_train = vectorizer.transform(corpus_train)\n",
    "X_test = vectorizer.transform(corpus_test)"
   ]
  },
  {
   "cell_type": "code",
   "execution_count": 8,
   "metadata": {},
   "outputs": [
    {
     "data": {
      "text/plain": [
       "0.21551394726786396"
      ]
     },
     "execution_count": 8,
     "metadata": {},
     "output_type": "execute_result"
    }
   ],
   "source": [
    "from sklearn.cluster import KMeans\n",
    "from sklearn.metrics import accuracy_score\n",
    "\n",
    "kmeans = KMeans(n_clusters=3, random_state=0, n_init='auto')\n",
    "kmeans.fit(X_train)\n",
    "y_pred_train = kmeans.labels_+1\n",
    "acc = accuracy_score(y_train, y_pred_train)\n",
    "acc"
   ]
  },
  {
   "cell_type": "code",
   "execution_count": 9,
   "metadata": {},
   "outputs": [
    {
     "data": {
      "image/png": "[encoded data removed]",
      "text/plain": [
       "<Figure size 640x480 with 1 Axes>"
      ]
     },
     "metadata": {},
     "output_type": "display_data"
    }
   ],
   "source": [
    "from collections import Counter\n",
    "\n",
    "true_freq = Counter(y_train)\n",
    "pred_freq = Counter(y_pred_train)\n",
    "true_x = list(true_freq.keys())-0.1*np.ones(len(true_freq))\n",
    "pred_x = list(pred_freq.keys())+0.1*np.ones(len(pred_freq))\n",
    "\n",
    "plt.bar(true_x, true_freq.values(), width=0.2, label=\"True\")\n",
    "plt.bar(pred_x, pred_freq.values(), width=0.2, label=\"Pred\")\n",
    "plt.legend()\n",
    "plt.show()\n"
   ]
  },
  {
   "cell_type": "code",
   "execution_count": 84,
   "metadata": {},
   "outputs": [
    {
     "data": {
      "text/plain": [
       "[1.0, 2.0, 3.0, 4.0, 5.0]"
      ]
     },
     "execution_count": 84,
     "metadata": {},
     "output_type": "execute_result"
    }
   ],
   "source": []
  },
  {
   "cell_type": "code",
   "execution_count": 82,
   "metadata": {},
   "outputs": [
    {
     "data": {
      "text/plain": [
       "dict_keys([1.0, 2.0, 3.0, 4.0, 5.0])"
      ]
     },
     "execution_count": 82,
     "metadata": {},
     "output_type": "execute_result"
    }
   ],
   "source": [
    "true_freq.keys()"
   ]
  },
  {
   "cell_type": "code",
   "execution_count": 29,
   "metadata": {},
   "outputs": [],
   "source": [
    "from sklearn.feature_extraction.text import TfidfVectorizer\n",
    "\n",
    "vectorizer = [TfidfVectorizer(max_features=100) for i in range(5)]\n",
    "X = [vectorizer[i].fit_transform(corpus[i]) for i in range(5)]"
   ]
  },
  {
   "cell_type": "code",
   "execution_count": 31,
   "metadata": {},
   "outputs": [
    {
     "data": {
      "text/plain": [
       "array(['also', 'amazon', 'another', 'back', 'bad', 'buy', 'call', 'cant',\n",
       "       'change', 'come', 'computer', 'could', 'customer', 'data', 'day',\n",
       "       'dont', 'download', 'drive', 'error', 'even', 'every', 'feature',\n",
       "       'file', 'find', 'first', 'fix', 'free', 'get', 'give', 'go',\n",
       "       'good', 'help', 'hour', 'im', 'instal', 'install', 'internet',\n",
       "       'intuit', 'know', 'like', 'look', 'mac', 'make', 'many',\n",
       "       'microsoft', 'money', 'much', 'need', 'never', 'new', 'norton',\n",
       "       'office', 'old', 'one', 'pay', 'pc', 'people', 'problem',\n",
       "       'product', 'program', 'purchase', 'quicken', 'really', 'review',\n",
       "       'run', 'say', 'security', 'see', 'since', 'slow', 'software',\n",
       "       'start', 'still', 'support', 'system', 'take', 'tax', 'tell',\n",
       "       'thing', 'think', 'time', 'try', 'turbotax', 'two', 'update',\n",
       "       'upgrade', 'use', 'user', 'version', 'virus', 'vista', 'want',\n",
       "       'way', 'well', 'window', 'windows', 'work', 'would', 'xp', 'year'],\n",
       "      dtype=object)"
      ]
     },
     "execution_count": 31,
     "metadata": {},
     "output_type": "execute_result"
    }
   ],
   "source": [
    "vectorizer[0].get_feature_names_out()"
   ]
  },
  {
   "cell_type": "code",
   "execution_count": 32,
   "metadata": {},
   "outputs": [
    {
     "data": {
      "text/plain": [
       "[<640x100 sparse matrix of type '<class 'numpy.float64'>'\n",
       " \twith 12335 stored elements in Compressed Sparse Row format>,\n",
       " <629x100 sparse matrix of type '<class 'numpy.float64'>'\n",
       " \twith 13461 stored elements in Compressed Sparse Row format>,\n",
       " <665x100 sparse matrix of type '<class 'numpy.float64'>'\n",
       " \twith 14881 stored elements in Compressed Sparse Row format>,\n",
       " <688x100 sparse matrix of type '<class 'numpy.float64'>'\n",
       " \twith 14983 stored elements in Compressed Sparse Row format>,\n",
       " <650x100 sparse matrix of type '<class 'numpy.float64'>'\n",
       " \twith 8705 stored elements in Compressed Sparse Row format>]"
      ]
     },
     "execution_count": 32,
     "metadata": {},
     "output_type": "execute_result"
    }
   ],
   "source": [
    "X"
   ]
  }
 ],
 "metadata": {
  "kernelspec": {
   "display_name": "Bachelor",
   "language": "python",
   "name": "python3"
  },
  "language_info": {
   "codemirror_mode": {
    "name": "ipython",
    "version": 3
   },
   "file_extension": ".py",
   "mimetype": "text/x-python",
   "name": "python",
   "nbconvert_exporter": "python",
   "pygments_lexer": "ipython3",
   "version": "3.11.4"
  }
 },
 "nbformat": 4,
 "nbformat_minor": 2
}
