{
 "cells": [
  {
   "cell_type": "code",
   "execution_count": 4,
   "metadata": {},
   "outputs": [],
   "source": [
    "import pandas as pd\n",
    "import gzip\n",
    "import json\n",
    "import matplotlib.pyplot as plt\n",
    "import os"
   ]
  },
  {
   "cell_type": "markdown",
   "metadata": {},
   "source": [
    "# setup data path for two files"
   ]
  },
  {
   "cell_type": "code",
   "execution_count": 5,
   "metadata": {},
   "outputs": [],
   "source": [
    "root = 'D:/study/computational_ds/project/data/'\n",
    "# english file\n",
    "gist_file = open(root+\"nltk_data/corpora/stopwords/english\", \"r\")\n",
    "# dataset path\n",
    "dataset_path = root + 'Software_5.json.gz'"
   ]
  },
  {
   "cell_type": "markdown",
   "metadata": {},
   "source": [
    "# dataset overview"
   ]
  },
  {
   "cell_type": "code",
   "execution_count": 6,
   "metadata": {},
   "outputs": [],
   "source": [
    "def parse(path):\n",
    "  g = gzip.open(path, 'rb')\n",
    "  for l in g:\n",
    "    yield json.loads(l)\n",
    "\n",
    "def getDF(path):\n",
    "  i = 0\n",
    "  df = {}\n",
    "  for d in parse(path):\n",
    "    df[i] = d\n",
    "    i += 1\n",
    "  return pd.DataFrame.from_dict(df, orient='index')"
   ]
  },
  {
   "cell_type": "code",
   "execution_count": 5,
   "metadata": {},
   "outputs": [],
   "source": [
    "# for filename in os.listdir(root):\n",
    "#   df = getDF(root + filename)\n",
    "#   plt.hist(df['overall'])\n",
    "#   plt.title('histgram of '+filename[:-8])\n",
    "#   plt.show()\n"
   ]
  },
  {
   "cell_type": "code",
   "execution_count": 7,
   "metadata": {},
   "outputs": [],
   "source": [
    "df = getDF(dataset_path)"
   ]
  },
  {
   "cell_type": "code",
   "execution_count": 8,
   "metadata": {},
   "outputs": [
    {
     "data": {
      "text/html": [
       "<div>\n",
       "<style scoped>\n",
       "    .dataframe tbody tr th:only-of-type {\n",
       "        vertical-align: middle;\n",
       "    }\n",
       "\n",
       "    .dataframe tbody tr th {\n",
       "        vertical-align: top;\n",
       "    }\n",
       "\n",
       "    .dataframe thead th {\n",
       "        text-align: right;\n",
       "    }\n",
       "</style>\n",
       "<table border=\"1\" class=\"dataframe\">\n",
       "  <thead>\n",
       "    <tr style=\"text-align: right;\">\n",
       "      <th></th>\n",
       "      <th>overall</th>\n",
       "      <th>verified</th>\n",
       "      <th>reviewTime</th>\n",
       "      <th>reviewerID</th>\n",
       "      <th>asin</th>\n",
       "      <th>style</th>\n",
       "      <th>reviewerName</th>\n",
       "      <th>reviewText</th>\n",
       "      <th>summary</th>\n",
       "      <th>unixReviewTime</th>\n",
       "      <th>vote</th>\n",
       "      <th>image</th>\n",
       "    </tr>\n",
       "  </thead>\n",
       "  <tbody>\n",
       "    <tr>\n",
       "      <th>0</th>\n",
       "      <td>4.0</td>\n",
       "      <td>False</td>\n",
       "      <td>10 20, 2010</td>\n",
       "      <td>A38NELQT98S4H8</td>\n",
       "      <td>0321719816</td>\n",
       "      <td>{'Format:': ' DVD-ROM'}</td>\n",
       "      <td>WB Halper</td>\n",
       "      <td>I've been using Dreamweaver (and it's predeces...</td>\n",
       "      <td>A solid overview of Dreamweaver CS5</td>\n",
       "      <td>1287532800</td>\n",
       "      <td>NaN</td>\n",
       "      <td>NaN</td>\n",
       "    </tr>\n",
       "    <tr>\n",
       "      <th>1</th>\n",
       "      <td>4.0</td>\n",
       "      <td>False</td>\n",
       "      <td>10 18, 2010</td>\n",
       "      <td>A3QJU4FEN8PQSZ</td>\n",
       "      <td>0321719816</td>\n",
       "      <td>{'Format:': ' DVD-ROM'}</td>\n",
       "      <td>Grimmy</td>\n",
       "      <td>The demo is done with the PC version, with ref...</td>\n",
       "      <td>A good value</td>\n",
       "      <td>1287360000</td>\n",
       "      <td>NaN</td>\n",
       "      <td>NaN</td>\n",
       "    </tr>\n",
       "  </tbody>\n",
       "</table>\n",
       "</div>"
      ],
      "text/plain": [
       "   overall  verified   reviewTime      reviewerID        asin  \\\n",
       "0      4.0     False  10 20, 2010  A38NELQT98S4H8  0321719816   \n",
       "1      4.0     False  10 18, 2010  A3QJU4FEN8PQSZ  0321719816   \n",
       "\n",
       "                     style reviewerName  \\\n",
       "0  {'Format:': ' DVD-ROM'}    WB Halper   \n",
       "1  {'Format:': ' DVD-ROM'}       Grimmy   \n",
       "\n",
       "                                          reviewText  \\\n",
       "0  I've been using Dreamweaver (and it's predeces...   \n",
       "1  The demo is done with the PC version, with ref...   \n",
       "\n",
       "                               summary  unixReviewTime vote image  \n",
       "0  A solid overview of Dreamweaver CS5      1287532800  NaN   NaN  \n",
       "1                         A good value      1287360000  NaN   NaN  "
      ]
     },
     "execution_count": 8,
     "metadata": {},
     "output_type": "execute_result"
    }
   ],
   "source": [
    "df.head(2)"
   ]
  },
  {
   "cell_type": "code",
   "execution_count": 9,
   "metadata": {},
   "outputs": [],
   "source": [
    "df = df[['overall','reviewText']]"
   ]
  },
  {
   "cell_type": "code",
   "execution_count": 10,
   "metadata": {},
   "outputs": [
    {
     "data": {
      "text/plain": [
       "(array([1500.,    0.,  719.,    0.,    0., 1598.,    0., 3016.,    0.,\n",
       "        5972.]),\n",
       " array([1. , 1.4, 1.8, 2.2, 2.6, 3. , 3.4, 3.8, 4.2, 4.6, 5. ]),\n",
       " <BarContainer object of 10 artists>)"
      ]
     },
     "execution_count": 10,
     "metadata": {},
     "output_type": "execute_result"
    },
    {
     "data": {
      "image/png": "[encoded data removed]",
      "text/plain": [
       "<Figure size 640x480 with 1 Axes>"
      ]
     },
     "metadata": {},
     "output_type": "display_data"
    }
   ],
   "source": [
    "plt.hist(df['overall'])"
   ]
  },
  {
   "cell_type": "markdown",
   "metadata": {},
   "source": [
    "## balance 5 levels"
   ]
  },
  {
   "cell_type": "code",
   "execution_count": 11,
   "metadata": {},
   "outputs": [],
   "source": [
    "sample_size = df['overall'].value_counts().min()\n",
    "groups = df.groupby('overall')\n",
    "balance_idx = []\n",
    "for key,subdf in groups:\n",
    "    sample_idx = subdf.sample(n=sample_size).index\n",
    "    balance_idx.extend(sample_idx)\n",
    "balance_df = df.iloc[balance_idx]"
   ]
  },
  {
   "cell_type": "code",
   "execution_count": 12,
   "metadata": {},
   "outputs": [
    {
     "data": {
      "text/html": [
       "<div>\n",
       "<style scoped>\n",
       "    .dataframe tbody tr th:only-of-type {\n",
       "        vertical-align: middle;\n",
       "    }\n",
       "\n",
       "    .dataframe tbody tr th {\n",
       "        vertical-align: top;\n",
       "    }\n",
       "\n",
       "    .dataframe thead th {\n",
       "        text-align: right;\n",
       "    }\n",
       "</style>\n",
       "<table border=\"1\" class=\"dataframe\">\n",
       "  <thead>\n",
       "    <tr style=\"text-align: right;\">\n",
       "      <th></th>\n",
       "      <th>overall</th>\n",
       "      <th>reviewText</th>\n",
       "    </tr>\n",
       "  </thead>\n",
       "  <tbody>\n",
       "    <tr>\n",
       "      <th>4788</th>\n",
       "      <td>1.0</td>\n",
       "      <td>I have been involved with computers for 22 yea...</td>\n",
       "    </tr>\n",
       "    <tr>\n",
       "      <th>1677</th>\n",
       "      <td>1.0</td>\n",
       "      <td>Downloaded KIS7 because previous subscription ...</td>\n",
       "    </tr>\n",
       "    <tr>\n",
       "      <th>11224</th>\n",
       "      <td>1.0</td>\n",
       "      <td>Norton Security has been working fine for the ...</td>\n",
       "    </tr>\n",
       "  </tbody>\n",
       "</table>\n",
       "</div>"
      ],
      "text/plain": [
       "       overall                                         reviewText\n",
       "4788       1.0  I have been involved with computers for 22 yea...\n",
       "1677       1.0  Downloaded KIS7 because previous subscription ...\n",
       "11224      1.0  Norton Security has been working fine for the ..."
      ]
     },
     "execution_count": 12,
     "metadata": {},
     "output_type": "execute_result"
    }
   ],
   "source": [
    "balance_df.head(3)"
   ]
  },
  {
   "cell_type": "markdown",
   "metadata": {},
   "source": [
    "# data pre-preocess"
   ]
  },
  {
   "cell_type": "markdown",
   "metadata": {},
   "source": [
    "## remove na and duplicate rows"
   ]
  },
  {
   "cell_type": "code",
   "execution_count": 13,
   "metadata": {},
   "outputs": [
    {
     "data": {
      "text/plain": [
       "overall       0\n",
       "reviewText    0\n",
       "dtype: int64"
      ]
     },
     "execution_count": 13,
     "metadata": {},
     "output_type": "execute_result"
    }
   ],
   "source": [
    "balance_df.isna().sum()"
   ]
  },
  {
   "cell_type": "code",
   "execution_count": 14,
   "metadata": {},
   "outputs": [
    {
     "name": "stderr",
     "output_type": "stream",
     "text": [
      "C:\\Users\\ZZY\\AppData\\Local\\Temp\\ipykernel_24016\\4015747826.py:1: SettingWithCopyWarning: \n",
      "A value is trying to be set on a copy of a slice from a DataFrame\n",
      "\n",
      "See the caveats in the documentation: https://pandas.pydata.org/pandas-docs/stable/user_guide/indexing.html#returning-a-view-versus-a-copy\n",
      "  balance_df.dropna(inplace=True)\n"
     ]
    }
   ],
   "source": [
    "balance_df.dropna(inplace=True)"
   ]
  },
  {
   "cell_type": "code",
   "execution_count": 15,
   "metadata": {},
   "outputs": [
    {
     "data": {
      "text/plain": [
       "262"
      ]
     },
     "execution_count": 15,
     "metadata": {},
     "output_type": "execute_result"
    }
   ],
   "source": [
    "balance_df.duplicated().sum()"
   ]
  },
  {
   "cell_type": "code",
   "execution_count": 16,
   "metadata": {},
   "outputs": [
    {
     "name": "stderr",
     "output_type": "stream",
     "text": [
      "C:\\Users\\ZZY\\AppData\\Local\\Temp\\ipykernel_24016\\703317432.py:1: SettingWithCopyWarning: \n",
      "A value is trying to be set on a copy of a slice from a DataFrame\n",
      "\n",
      "See the caveats in the documentation: https://pandas.pydata.org/pandas-docs/stable/user_guide/indexing.html#returning-a-view-versus-a-copy\n",
      "  balance_df.drop_duplicates(inplace=True)\n"
     ]
    }
   ],
   "source": [
    "balance_df.drop_duplicates(inplace=True)"
   ]
  },
  {
   "cell_type": "markdown",
   "metadata": {},
   "source": [
    "## clean with nltk package"
   ]
  },
  {
   "cell_type": "code",
   "execution_count": 17,
   "metadata": {},
   "outputs": [],
   "source": [
    "import nltk\n",
    "import string\n",
    "from nltk import pos_tag # Part-of-Speech (POS) tagging\n",
    "from nltk.stem import WordNetLemmatizer # lemmatize a word\n",
    "from nltk.stem.porter import PorterStemmer # Information Retrieval\n",
    "from nltk.tokenize import word_tokenize # splits sentence into words \n",
    "from nltk.tokenize import WhitespaceTokenizer # splits on and discards only whitespace characters\n",
    "from nltk.corpus import wordnet # large lexical database of English words\n",
    "from nltk.sentiment.vader import SentimentIntensityAnalyzer # sentiment analyzer\n",
    "\n",
    "# nltk.download('stopwords')\n",
    "# nltk.download('averaged_perceptron_tagger')\n",
    "# nltk.download('wordnet')\n",
    "# nltk.download('omw-1.4')\n",
    "# nltk.download('vader_lexicon')"
   ]
  },
  {
   "cell_type": "code",
   "execution_count": 18,
   "metadata": {},
   "outputs": [],
   "source": [
    "# upload stopwords txt\n",
    "content = gist_file.read()\n",
    "stopwords = content.split(\"\\n\")\n",
    "gist_file.close()"
   ]
  },
  {
   "cell_type": "code",
   "execution_count": 19,
   "metadata": {},
   "outputs": [],
   "source": [
    "# return the wordnet object value\n",
    "def get_wordnet_pos(pos_tag):\n",
    "    if pos_tag.startswith('J'):\n",
    "        return wordnet.ADJ\n",
    "    elif pos_tag.startswith('V'):\n",
    "        return wordnet.VERB\n",
    "    elif pos_tag.startswith('N'):\n",
    "        return wordnet.NOUN\n",
    "    elif pos_tag.startswith('R'):\n",
    "        return wordnet.ADV\n",
    "    else:\n",
    "        return wordnet.NOUN\n",
    "\n",
    "def clean_text(text):\n",
    "    # remove \\n\n",
    "    text = text.replace('\\n', '')\n",
    "    # remove \\t\n",
    "    text = text.replace('\\t', '')\n",
    "    # remove ','\n",
    "    text = text.replace(',', '')\n",
    "    # lower text\n",
    "    text = text.lower()\n",
    "    # tokenize text and remove puncutation\n",
    "    text = [word.strip(string.punctuation) for word in text.split(\" \")]\n",
    "    # remove words that contain numbers and special characters \n",
    "    text = [word for word in text if word.isalnum() and not any(c.isdigit() for c in word)]\n",
    "    # remove stop words\n",
    "    text = [x for x in text if x not in stopwords]\n",
    "    # remove empty tokens\n",
    "    text = [t for t in text if len(t) > 0]\n",
    "    # pos tag text\n",
    "    pos_tags = pos_tag(text)\n",
    "    # lemmatize text\n",
    "    text = [WordNetLemmatizer().lemmatize(t[0], get_wordnet_pos(t[1])) for t in pos_tags]\n",
    "    # remove words with only one letter\n",
    "    text = [t for t in text if len(t) > 1]\n",
    "    # join all\n",
    "    text = ' '.join(text)\n",
    "    return(text)"
   ]
  },
  {
   "cell_type": "code",
   "execution_count": 24,
   "metadata": {},
   "outputs": [
    {
     "name": "stderr",
     "output_type": "stream",
     "text": [
      "C:\\Users\\ZZY\\AppData\\Local\\Temp\\ipykernel_24016\\291207919.py:1: SettingWithCopyWarning: \n",
      "A value is trying to be set on a copy of a slice from a DataFrame.\n",
      "Try using .loc[row_indexer,col_indexer] = value instead\n",
      "\n",
      "See the caveats in the documentation: https://pandas.pydata.org/pandas-docs/stable/user_guide/indexing.html#returning-a-view-versus-a-copy\n",
      "  balance_df['Clean_Review'] = balance_df['reviewText'].apply(lambda x: clean_text(x))\n"
     ]
    },
    {
     "data": {
      "text/html": [
       "<div>\n",
       "<style scoped>\n",
       "    .dataframe tbody tr th:only-of-type {\n",
       "        vertical-align: middle;\n",
       "    }\n",
       "\n",
       "    .dataframe tbody tr th {\n",
       "        vertical-align: top;\n",
       "    }\n",
       "\n",
       "    .dataframe thead th {\n",
       "        text-align: right;\n",
       "    }\n",
       "</style>\n",
       "<table border=\"1\" class=\"dataframe\">\n",
       "  <thead>\n",
       "    <tr style=\"text-align: right;\">\n",
       "      <th></th>\n",
       "      <th>overall</th>\n",
       "      <th>reviewText</th>\n",
       "      <th>Clean_Review</th>\n",
       "    </tr>\n",
       "  </thead>\n",
       "  <tbody>\n",
       "    <tr>\n",
       "      <th>4788</th>\n",
       "      <td>1.0</td>\n",
       "      <td>I have been involved with computers for 22 yea...</td>\n",
       "      <td>involve computer year expert design program co...</td>\n",
       "    </tr>\n",
       "    <tr>\n",
       "      <th>1677</th>\n",
       "      <td>1.0</td>\n",
       "      <td>Downloaded KIS7 because previous subscription ...</td>\n",
       "      <td>download previous subscription expire load say...</td>\n",
       "    </tr>\n",
       "    <tr>\n",
       "      <th>11224</th>\n",
       "      <td>1.0</td>\n",
       "      <td>Norton Security has been working fine for the ...</td>\n",
       "      <td>norton security work fine last year start use ...</td>\n",
       "    </tr>\n",
       "    <tr>\n",
       "      <th>4261</th>\n",
       "      <td>1.0</td>\n",
       "      <td>same ol' same ol' from Microsoft - but what ca...</td>\n",
       "      <td>ol ol microsoft expect company large dysfuncti...</td>\n",
       "    </tr>\n",
       "    <tr>\n",
       "      <th>6651</th>\n",
       "      <td>1.0</td>\n",
       "      <td>I have been using Quicken since the 2nd DOS ve...</td>\n",
       "      <td>use quicken since do version cannot understand...</td>\n",
       "    </tr>\n",
       "  </tbody>\n",
       "</table>\n",
       "</div>"
      ],
      "text/plain": [
       "       overall                                         reviewText  \\\n",
       "4788       1.0  I have been involved with computers for 22 yea...   \n",
       "1677       1.0  Downloaded KIS7 because previous subscription ...   \n",
       "11224      1.0  Norton Security has been working fine for the ...   \n",
       "4261       1.0  same ol' same ol' from Microsoft - but what ca...   \n",
       "6651       1.0  I have been using Quicken since the 2nd DOS ve...   \n",
       "\n",
       "                                            Clean_Review  \n",
       "4788   involve computer year expert design program co...  \n",
       "1677   download previous subscription expire load say...  \n",
       "11224  norton security work fine last year start use ...  \n",
       "4261   ol ol microsoft expect company large dysfuncti...  \n",
       "6651   use quicken since do version cannot understand...  "
      ]
     },
     "execution_count": 24,
     "metadata": {},
     "output_type": "execute_result"
    }
   ],
   "source": [
    "balance_df['Clean_Review'] = balance_df['reviewText'].apply(lambda x: clean_text(x))\n",
    "balance_df.head()"
   ]
  },
  {
   "cell_type": "code",
   "execution_count": 25,
   "metadata": {},
   "outputs": [],
   "source": [
    "len(balance_df)\n",
    "balance_df.to_csv(root+'clean_sample_data.csv',index=False)"
   ]
  }
 ],
 "metadata": {
  "kernelspec": {
   "display_name": "pgm",
   "language": "python",
   "name": "python3"
  },
  "language_info": {
   "codemirror_mode": {
    "name": "ipython",
    "version": 3
   },
   "file_extension": ".py",
   "mimetype": "text/x-python",
   "name": "python",
   "nbconvert_exporter": "python",
   "pygments_lexer": "ipython3",
   "version": "3.10.9"
  }
 },
 "nbformat": 4,
 "nbformat_minor": 2
}
